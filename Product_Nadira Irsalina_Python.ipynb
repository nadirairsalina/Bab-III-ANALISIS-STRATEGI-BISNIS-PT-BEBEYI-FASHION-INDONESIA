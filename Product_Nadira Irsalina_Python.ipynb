{
 "cells": [
  {
   "cell_type": "markdown",
   "metadata": {
    "id": "RhLonc2kVdGI"
   },
   "source": [
    "* Nama : Nadira Irsalina\n",
    "* ID Camp : DBA2134265\n",
    "* Kelompok : 257\n",
    "* Departemet : Products\n",
    "* Kelas : DBAA12\n",
    "\n",
    "\n",
    "# Outline:\n",
    "\n",
    "### **Load & Explore Data**\n",
    "### **Data Understanding**\n",
    "### **Exploratory Data Analysis**\n",
    "### **Data Analysis**\n",
    "### **Modelling**\n",
    "\n",
    "\n"
   ]
  },
  {
   "cell_type": "markdown",
   "metadata": {},
   "source": [
    "# PT Bebeyi Fashion Indonesia\n",
    "## Product Departement Classification"
   ]
  },
  {
   "cell_type": "markdown",
   "metadata": {
    "id": "9GltT8vroc-J"
   },
   "source": [
    "## **0 Data Loading & Exploration**\n",
    "\n",
    "Data yang akan digunakan adalah data yang disediakan oleh Ruangguru khusus untuk Final Project Data, Bussiness Analytics Operations. Dataset terbagi menjadi dua kategori yaitu dataset utama (primary) dan dataset pendukung\n",
    "(secondary). Yang mana  Data yang disediakan adalah Data terkait dengan product di suatu perusahaan, yang berisi terkait dengan Detail product, nama, kategori, Waktu produk dibuat, Waktu produk terjual dan lain-lain.\n",
    " \n",
    "\n",
    "\n",
    "\n",
    "\n",
    "\n",
    "\n",
    "\n"
   ]
  },
  {
   "cell_type": "markdown",
   "metadata": {},
   "source": [
    "## Data Understanding\n",
    "\n",
    "### 1.\tIDENTIFIKASI DATASET\n",
    "Data yang akan digunakan pada departemen produk adalah dataset utama yaitu Inventory item dan dataset pendukung yang saya gunakan adalah dataset item order dan distribution center. Alasan saya menggunakan dataset tersebut dikarenakan cukup cocok dalam memenuhi tujuan bisnis pada departemen product dan memperoleh insight untuk perubahan bisnis kedepannya.'\n",
    "\n",
    "### 2. KONSEP DATA SET\n",
    "1.\tData Primary (Inventory Items) =\n",
    "Pada data inventory item merupakan data yang berisi tentang keterangan suatu produk mulai dari produk tersebut dibuat,jenis,kategori,brand hingga berisi keterangan kapan produk tersebut habis terjual dan lainnya. Dataset ini memiliki jumlah kolom 375865, dan baris 12.\n",
    "2.\tDataset Secondary (orders) =\n",
    "Dataset ini digunakan untuk melengkapi data primary. Data ini dibutuhkan untuk mengetahui data status produk yang diorder oleh pembeli. Data ini cukup penting dikarenakan banyak data yang tidak ada dalam data primer yang sekiranya cukup penting untuk dicantumkan, Jumlah kolom pada data ini 124512 dan 9 baris.\n",
    "3.\tDataset Secondary (Distribution center) =\n",
    "Dataset ini adalah data pelengkap yang digunakan untuk membuat maps pada tableu berdasarkan id distribution yang telah ada dalam data primary, tujuannya adalah mengetahui sebaran penjualan produk / daerah mana saja yang membeli produk.\n",
    "\n",
    "### VARIABEL YANG DIGUNAKAN\n",
    "1. Data Primary (Inventory Items)\n",
    "Saya menggunakan semua variabel kecuali product sku karena tidak dibutuhkan. variabel yang saya gunakan adalah 'id', 'product_id', 'created_at', 'sold_at', 'cost', 'product_category', 'product_name', 'product_brand', 'product_retail_price', 'product_department', 'product_distribution_center_id'.\n",
    "2. Dataset Secondary items order\n",
    "Saya menggunakan variable yang belum ada dalam data primer. variabel yang saya gunakan yaitu order_id,user_id                  ,inventory_item_id, shipped_at delivered_at dan returned_at. Yang paling penting yaitu variable status produk.\n",
    "3. Dataset Secondary distribution center\n",
    "Saya menggunakan semua variable karena dirasa penting digunakan untuk membuat maps di tableau, 'id', 'name', 'latitude', 'longitude'.\n",
    "\n"
   ]
  },
  {
   "cell_type": "markdown",
   "metadata": {},
   "source": [
    "## **Data Primary (Inventory Items)**"
   ]
  },
  {
   "cell_type": "markdown",
   "metadata": {},
   "source": [
    "## **1 Libraries**\n",
    "\n",
    "Cell berikut berisi semua _library_ yang akan akan gunakan."
   ]
  },
  {
   "cell_type": "code",
   "execution_count": 1,
   "metadata": {},
   "outputs": [],
   "source": [
    "import pandas as pd\n",
    "import numpy as np\n",
    "import seaborn as sb\n",
    "import seaborn as sns\n",
    "from pprint import pprint\n",
    "from datetime import datetime\n",
    "from pandas import Series\n",
    "\n",
    "from scipy import stats\n",
    "import numpy as np\n",
    "\n",
    "import matplotlib.pyplot as plt\n",
    "%matplotlib inline\n",
    "\n",
    "from scipy.stats import norm, skew #for some statistics\n",
    "from scipy import stats #qqplot\n",
    "import statsmodels.api as sm #for decomposing the trends, seasonality etc.\n",
    "\n",
    "import re\n",
    "import string\n",
    "import nltk\n",
    "from nltk.tokenize import word_tokenize,sent_tokenize\n",
    "from nltk.stem.porter import PorterStemmer\n",
    "from nltk.corpus import stopwords\n",
    "from sklearn.linear_model import LogisticRegression\n",
    "from sklearn.metrics import accuracy_score\n",
    "from sklearn.metrics import classification_report\n",
    "from sklearn.feature_extraction.text import TfidfVectorizer\n",
    "from sklearn.model_selection import train_test_split\n",
    "from sklearn.metrics import accuracy_score,f1_score,classification_report\n",
    "from sklearn import tree"
   ]
  },
  {
   "cell_type": "code",
   "execution_count": 2,
   "metadata": {
    "id": "GIv8A2ommct9"
   },
   "outputs": [
    {
     "data": {
      "text/html": [
       "<div>\n",
       "<style scoped>\n",
       "    .dataframe tbody tr th:only-of-type {\n",
       "        vertical-align: middle;\n",
       "    }\n",
       "\n",
       "    .dataframe tbody tr th {\n",
       "        vertical-align: top;\n",
       "    }\n",
       "\n",
       "    .dataframe thead th {\n",
       "        text-align: right;\n",
       "    }\n",
       "</style>\n",
       "<table border=\"1\" class=\"dataframe\">\n",
       "  <thead>\n",
       "    <tr style=\"text-align: right;\">\n",
       "      <th></th>\n",
       "      <th>id</th>\n",
       "      <th>product_id</th>\n",
       "      <th>created_at</th>\n",
       "      <th>sold_at</th>\n",
       "      <th>cost_product</th>\n",
       "      <th>product_category</th>\n",
       "      <th>product_name</th>\n",
       "      <th>product_brand</th>\n",
       "      <th>product_retail_price</th>\n",
       "      <th>product_department</th>\n",
       "      <th>product_sku</th>\n",
       "      <th>product_distribution_center_id</th>\n",
       "    </tr>\n",
       "  </thead>\n",
       "  <tbody>\n",
       "    <tr>\n",
       "      <th>0</th>\n",
       "      <td>90967.0</td>\n",
       "      <td>16898.0</td>\n",
       "      <td>2021-07-19 02:20:10+00:00</td>\n",
       "      <td>2021-07-20 14:34:10+00:00</td>\n",
       "      <td>13.925</td>\n",
       "      <td>Tops &amp; Tees</td>\n",
       "      <td>Quiksilver Waterman Men's On The Rise</td>\n",
       "      <td>NaN</td>\n",
       "      <td>25.0</td>\n",
       "      <td>Men</td>\n",
       "      <td>22811EE19846217512507785E74D12CC</td>\n",
       "      <td>3.0</td>\n",
       "    </tr>\n",
       "    <tr>\n",
       "      <th>1</th>\n",
       "      <td>90968.0</td>\n",
       "      <td>16898.0</td>\n",
       "      <td>2020-04-13 07:46:00+00:00</td>\n",
       "      <td>NaN</td>\n",
       "      <td>13.925</td>\n",
       "      <td>Tops &amp; Tees</td>\n",
       "      <td>Quiksilver Waterman Men's On The Rise</td>\n",
       "      <td>NaN</td>\n",
       "      <td>25.0</td>\n",
       "      <td>Men</td>\n",
       "      <td>22811EE19846217512507785E74D12CC</td>\n",
       "      <td>3.0</td>\n",
       "    </tr>\n",
       "    <tr>\n",
       "      <th>2</th>\n",
       "      <td>90969.0</td>\n",
       "      <td>16898.0</td>\n",
       "      <td>2020-09-02 17:43:00+00:00</td>\n",
       "      <td>NaN</td>\n",
       "      <td>13.925</td>\n",
       "      <td>Tops &amp; Tees</td>\n",
       "      <td>Quiksilver Waterman Men's On The Rise</td>\n",
       "      <td>NaN</td>\n",
       "      <td>25.0</td>\n",
       "      <td>Men</td>\n",
       "      <td>22811EE19846217512507785E74D12CC</td>\n",
       "      <td>3.0</td>\n",
       "    </tr>\n",
       "    <tr>\n",
       "      <th>3</th>\n",
       "      <td>90970.0</td>\n",
       "      <td>16898.0</td>\n",
       "      <td>2021-08-19 15:17:00+00:00</td>\n",
       "      <td>NaN</td>\n",
       "      <td>13.925</td>\n",
       "      <td>Tops &amp; Tees</td>\n",
       "      <td>Quiksilver Waterman Men's On The Rise</td>\n",
       "      <td>NaN</td>\n",
       "      <td>25.0</td>\n",
       "      <td>Men</td>\n",
       "      <td>22811EE19846217512507785E74D12CC</td>\n",
       "      <td>3.0</td>\n",
       "    </tr>\n",
       "    <tr>\n",
       "      <th>4</th>\n",
       "      <td>96715.0</td>\n",
       "      <td>16898.0</td>\n",
       "      <td>2020-05-09 11:16:10+00:00</td>\n",
       "      <td>2020-06-23 23:59:10+00:00</td>\n",
       "      <td>13.925</td>\n",
       "      <td>Tops &amp; Tees</td>\n",
       "      <td>Quiksilver Waterman Men's On The Rise</td>\n",
       "      <td>NaN</td>\n",
       "      <td>25.0</td>\n",
       "      <td>Men</td>\n",
       "      <td>22811EE19846217512507785E74D12CC</td>\n",
       "      <td>3.0</td>\n",
       "    </tr>\n",
       "  </tbody>\n",
       "</table>\n",
       "</div>"
      ],
      "text/plain": [
       "        id  product_id                 created_at                    sold_at  \\\n",
       "0  90967.0     16898.0  2021-07-19 02:20:10+00:00  2021-07-20 14:34:10+00:00   \n",
       "1  90968.0     16898.0  2020-04-13 07:46:00+00:00                        NaN   \n",
       "2  90969.0     16898.0  2020-09-02 17:43:00+00:00                        NaN   \n",
       "3  90970.0     16898.0  2021-08-19 15:17:00+00:00                        NaN   \n",
       "4  96715.0     16898.0  2020-05-09 11:16:10+00:00  2020-06-23 23:59:10+00:00   \n",
       "\n",
       "   cost_product product_category                           product_name  \\\n",
       "0        13.925      Tops & Tees  Quiksilver Waterman Men's On The Rise   \n",
       "1        13.925      Tops & Tees  Quiksilver Waterman Men's On The Rise   \n",
       "2        13.925      Tops & Tees  Quiksilver Waterman Men's On The Rise   \n",
       "3        13.925      Tops & Tees  Quiksilver Waterman Men's On The Rise   \n",
       "4        13.925      Tops & Tees  Quiksilver Waterman Men's On The Rise   \n",
       "\n",
       "  product_brand  product_retail_price product_department  \\\n",
       "0           NaN                  25.0                Men   \n",
       "1           NaN                  25.0                Men   \n",
       "2           NaN                  25.0                Men   \n",
       "3           NaN                  25.0                Men   \n",
       "4           NaN                  25.0                Men   \n",
       "\n",
       "                        product_sku  product_distribution_center_id  \n",
       "0  22811EE19846217512507785E74D12CC                             3.0  \n",
       "1  22811EE19846217512507785E74D12CC                             3.0  \n",
       "2  22811EE19846217512507785E74D12CC                             3.0  \n",
       "3  22811EE19846217512507785E74D12CC                             3.0  \n",
       "4  22811EE19846217512507785E74D12CC                             3.0  "
      ]
     },
     "execution_count": 2,
     "metadata": {},
     "output_type": "execute_result"
    }
   ],
   "source": [
    "data = pd.read_csv('inventory_items.csv')\n",
    "data.head() # Mengimpor File dan memunculkan data head."
   ]
  },
  {
   "cell_type": "code",
   "execution_count": 3,
   "metadata": {
    "colab": {
     "base_uri": "https://localhost:8080/",
     "height": 300
    },
    "id": "wElLKDH1zbX-",
    "outputId": "0ce85ae9-1e2a-4066-bcdd-473ad18b4e7c"
   },
   "outputs": [
    {
     "data": {
      "text/html": [
       "<div>\n",
       "<style scoped>\n",
       "    .dataframe tbody tr th:only-of-type {\n",
       "        vertical-align: middle;\n",
       "    }\n",
       "\n",
       "    .dataframe tbody tr th {\n",
       "        vertical-align: top;\n",
       "    }\n",
       "\n",
       "    .dataframe thead th {\n",
       "        text-align: right;\n",
       "    }\n",
       "</style>\n",
       "<table border=\"1\" class=\"dataframe\">\n",
       "  <thead>\n",
       "    <tr style=\"text-align: right;\">\n",
       "      <th></th>\n",
       "      <th>id</th>\n",
       "      <th>product_id</th>\n",
       "      <th>cost_product</th>\n",
       "      <th>product_retail_price</th>\n",
       "      <th>product_distribution_center_id</th>\n",
       "    </tr>\n",
       "  </thead>\n",
       "  <tbody>\n",
       "    <tr>\n",
       "      <th>count</th>\n",
       "      <td>375863.000000</td>\n",
       "      <td>375863.000000</td>\n",
       "      <td>375863.000000</td>\n",
       "      <td>375863.000000</td>\n",
       "      <td>375863.000000</td>\n",
       "    </tr>\n",
       "    <tr>\n",
       "      <th>mean</th>\n",
       "      <td>243862.035606</td>\n",
       "      <td>15471.124375</td>\n",
       "      <td>26.975910</td>\n",
       "      <td>55.874503</td>\n",
       "      <td>5.046709</td>\n",
       "    </tr>\n",
       "    <tr>\n",
       "      <th>std</th>\n",
       "      <td>140827.043776</td>\n",
       "      <td>8465.142925</td>\n",
       "      <td>27.814531</td>\n",
       "      <td>59.425964</td>\n",
       "      <td>2.923890</td>\n",
       "    </tr>\n",
       "    <tr>\n",
       "      <th>min</th>\n",
       "      <td>1.000000</td>\n",
       "      <td>1.000000</td>\n",
       "      <td>0.008300</td>\n",
       "      <td>0.020000</td>\n",
       "      <td>1.000000</td>\n",
       "    </tr>\n",
       "    <tr>\n",
       "      <th>25%</th>\n",
       "      <td>121984.500000</td>\n",
       "      <td>8133.000000</td>\n",
       "      <td>11.033400</td>\n",
       "      <td>23.850000</td>\n",
       "      <td>2.000000</td>\n",
       "    </tr>\n",
       "    <tr>\n",
       "      <th>50%</th>\n",
       "      <td>243772.000000</td>\n",
       "      <td>16346.000000</td>\n",
       "      <td>19.489821</td>\n",
       "      <td>39.580002</td>\n",
       "      <td>5.000000</td>\n",
       "    </tr>\n",
       "    <tr>\n",
       "      <th>75%</th>\n",
       "      <td>366024.500000</td>\n",
       "      <td>22882.500000</td>\n",
       "      <td>32.880000</td>\n",
       "      <td>66.330002</td>\n",
       "      <td>8.000000</td>\n",
       "    </tr>\n",
       "    <tr>\n",
       "      <th>max</th>\n",
       "      <td>487390.000000</td>\n",
       "      <td>29120.000000</td>\n",
       "      <td>557.151002</td>\n",
       "      <td>990.000000</td>\n",
       "      <td>10.000000</td>\n",
       "    </tr>\n",
       "  </tbody>\n",
       "</table>\n",
       "</div>"
      ],
      "text/plain": [
       "                  id     product_id   cost_product  product_retail_price  \\\n",
       "count  375863.000000  375863.000000  375863.000000         375863.000000   \n",
       "mean   243862.035606   15471.124375      26.975910             55.874503   \n",
       "std    140827.043776    8465.142925      27.814531             59.425964   \n",
       "min         1.000000       1.000000       0.008300              0.020000   \n",
       "25%    121984.500000    8133.000000      11.033400             23.850000   \n",
       "50%    243772.000000   16346.000000      19.489821             39.580002   \n",
       "75%    366024.500000   22882.500000      32.880000             66.330002   \n",
       "max    487390.000000   29120.000000     557.151002            990.000000   \n",
       "\n",
       "       product_distribution_center_id  \n",
       "count                   375863.000000  \n",
       "mean                         5.046709  \n",
       "std                          2.923890  \n",
       "min                          1.000000  \n",
       "25%                          2.000000  \n",
       "50%                          5.000000  \n",
       "75%                          8.000000  \n",
       "max                         10.000000  "
      ]
     },
     "execution_count": 3,
     "metadata": {},
     "output_type": "execute_result"
    }
   ],
   "source": [
    "data.describe()"
   ]
  },
  {
   "cell_type": "markdown",
   "metadata": {
    "id": "ywXXELAC0f_D"
   },
   "source": [
    "**Insights:**\n",
    "\n",
    "Dari data tersebut cost (Harga asli produk) tertinggi yaitu 557.151002 dan retail_price (Harga retail produk) tertinggi yaitu 999.000000"
   ]
  },
  {
   "cell_type": "code",
   "execution_count": 4,
   "metadata": {
    "colab": {
     "base_uri": "https://localhost:8080/",
     "height": 669
    },
    "id": "hcdwMQB81UlH",
    "outputId": "d76323bf-b408-4782-d530-bddcf63e6ec2"
   },
   "outputs": [
    {
     "data": {
      "text/html": [
       "<div>\n",
       "<style scoped>\n",
       "    .dataframe tbody tr th:only-of-type {\n",
       "        vertical-align: middle;\n",
       "    }\n",
       "\n",
       "    .dataframe tbody tr th {\n",
       "        vertical-align: top;\n",
       "    }\n",
       "\n",
       "    .dataframe thead th {\n",
       "        text-align: right;\n",
       "    }\n",
       "</style>\n",
       "<table border=\"1\" class=\"dataframe\">\n",
       "  <thead>\n",
       "    <tr style=\"text-align: right;\">\n",
       "      <th></th>\n",
       "      <th>id</th>\n",
       "      <th>product_id</th>\n",
       "      <th>created_at</th>\n",
       "      <th>sold_at</th>\n",
       "      <th>cost_product</th>\n",
       "      <th>product_category</th>\n",
       "      <th>product_name</th>\n",
       "      <th>product_brand</th>\n",
       "      <th>product_retail_price</th>\n",
       "      <th>product_department</th>\n",
       "      <th>product_sku</th>\n",
       "      <th>product_distribution_center_id</th>\n",
       "    </tr>\n",
       "  </thead>\n",
       "  <tbody>\n",
       "    <tr>\n",
       "      <th>375859</th>\n",
       "      <td>107981.0</td>\n",
       "      <td>2334.0</td>\n",
       "      <td>2020-07-26 18:55:20+00:00</td>\n",
       "      <td>2020-08-03 16:30:20+00:00</td>\n",
       "      <td>46.11</td>\n",
       "      <td>Fashion Hoodies &amp; Sweatshirts</td>\n",
       "      <td>Fresh Laundry Women's Long Sleeve Hoodie</td>\n",
       "      <td>Fresh Laundry</td>\n",
       "      <td>106.0</td>\n",
       "      <td>Women</td>\n",
       "      <td>7E3B7A5BAFCB0FA8E8DFE3EA6ACA9186</td>\n",
       "      <td>3.0</td>\n",
       "    </tr>\n",
       "    <tr>\n",
       "      <th>375860</th>\n",
       "      <td>107982.0</td>\n",
       "      <td>2334.0</td>\n",
       "      <td>2021-08-06 13:16:00+00:00</td>\n",
       "      <td>NaN</td>\n",
       "      <td>46.11</td>\n",
       "      <td>Fashion Hoodies &amp; Sweatshirts</td>\n",
       "      <td>Fresh Laundry Women's Long Sleeve Hoodie</td>\n",
       "      <td>Fresh Laundry</td>\n",
       "      <td>106.0</td>\n",
       "      <td>Women</td>\n",
       "      <td>7E3B7A5BAFCB0FA8E8DFE3EA6ACA9186</td>\n",
       "      <td>3.0</td>\n",
       "    </tr>\n",
       "    <tr>\n",
       "      <th>375861</th>\n",
       "      <td>210596.0</td>\n",
       "      <td>2334.0</td>\n",
       "      <td>2022-05-26 22:56:28.406446+00:00</td>\n",
       "      <td>2022-06-04 11:04:28.406446+00:00</td>\n",
       "      <td>46.11</td>\n",
       "      <td>Fashion Hoodies &amp; Sweatshirts</td>\n",
       "      <td>Fresh Laundry Women's Long Sleeve Hoodie</td>\n",
       "      <td>Fresh Laundry</td>\n",
       "      <td>106.0</td>\n",
       "      <td>Women</td>\n",
       "      <td>7E3B7A5BAFCB0FA8E8DFE3EA6ACA9186</td>\n",
       "      <td>3.0</td>\n",
       "    </tr>\n",
       "    <tr>\n",
       "      <th>375862</th>\n",
       "      <td>210597.0</td>\n",
       "      <td>2334.0</td>\n",
       "      <td>2021-08-05 01:52:00+00:00</td>\n",
       "      <td>NaN</td>\n",
       "      <td>46.11</td>\n",
       "      <td>Fashion Hoodies &amp; Sweatshirts</td>\n",
       "      <td>Fresh Laundry Women's Long Sleeve Hoodie</td>\n",
       "      <td>Fresh Laundry</td>\n",
       "      <td>106.0</td>\n",
       "      <td>Women</td>\n",
       "      <td>7E3B7A5BAFCB0FA8E8DFE3EA6ACA9186</td>\n",
       "      <td>3.0</td>\n",
       "    </tr>\n",
       "    <tr>\n",
       "      <th>375863</th>\n",
       "      <td>NaN</td>\n",
       "      <td>NaN</td>\n",
       "      <td>NaN</td>\n",
       "      <td>NaN</td>\n",
       "      <td>NaN</td>\n",
       "      <td>NaN</td>\n",
       "      <td>NaN</td>\n",
       "      <td>NaN</td>\n",
       "      <td>NaN</td>\n",
       "      <td>NaN</td>\n",
       "      <td>NaN</td>\n",
       "      <td>NaN</td>\n",
       "    </tr>\n",
       "  </tbody>\n",
       "</table>\n",
       "</div>"
      ],
      "text/plain": [
       "              id  product_id                        created_at  \\\n",
       "375859  107981.0      2334.0         2020-07-26 18:55:20+00:00   \n",
       "375860  107982.0      2334.0         2021-08-06 13:16:00+00:00   \n",
       "375861  210596.0      2334.0  2022-05-26 22:56:28.406446+00:00   \n",
       "375862  210597.0      2334.0         2021-08-05 01:52:00+00:00   \n",
       "375863       NaN         NaN                               NaN   \n",
       "\n",
       "                                 sold_at  cost_product  \\\n",
       "375859         2020-08-03 16:30:20+00:00         46.11   \n",
       "375860                               NaN         46.11   \n",
       "375861  2022-06-04 11:04:28.406446+00:00         46.11   \n",
       "375862                               NaN         46.11   \n",
       "375863                               NaN           NaN   \n",
       "\n",
       "                     product_category  \\\n",
       "375859  Fashion Hoodies & Sweatshirts   \n",
       "375860  Fashion Hoodies & Sweatshirts   \n",
       "375861  Fashion Hoodies & Sweatshirts   \n",
       "375862  Fashion Hoodies & Sweatshirts   \n",
       "375863                            NaN   \n",
       "\n",
       "                                    product_name  product_brand  \\\n",
       "375859  Fresh Laundry Women's Long Sleeve Hoodie  Fresh Laundry   \n",
       "375860  Fresh Laundry Women's Long Sleeve Hoodie  Fresh Laundry   \n",
       "375861  Fresh Laundry Women's Long Sleeve Hoodie  Fresh Laundry   \n",
       "375862  Fresh Laundry Women's Long Sleeve Hoodie  Fresh Laundry   \n",
       "375863                                       NaN            NaN   \n",
       "\n",
       "        product_retail_price product_department  \\\n",
       "375859                 106.0              Women   \n",
       "375860                 106.0              Women   \n",
       "375861                 106.0              Women   \n",
       "375862                 106.0              Women   \n",
       "375863                   NaN                NaN   \n",
       "\n",
       "                             product_sku  product_distribution_center_id  \n",
       "375859  7E3B7A5BAFCB0FA8E8DFE3EA6ACA9186                             3.0  \n",
       "375860  7E3B7A5BAFCB0FA8E8DFE3EA6ACA9186                             3.0  \n",
       "375861  7E3B7A5BAFCB0FA8E8DFE3EA6ACA9186                             3.0  \n",
       "375862  7E3B7A5BAFCB0FA8E8DFE3EA6ACA9186                             3.0  \n",
       "375863                               NaN                             NaN  "
      ]
     },
     "execution_count": 4,
     "metadata": {},
     "output_type": "execute_result"
    }
   ],
   "source": [
    "data.tail(\n",
    ") # Fungsi yang menampilkan n baris terakhir dari kumpulan data."
   ]
  },
  {
   "cell_type": "code",
   "execution_count": 5,
   "metadata": {},
   "outputs": [
    {
     "data": {
      "text/plain": [
       "(375864, 12)"
      ]
     },
     "execution_count": 5,
     "metadata": {},
     "output_type": "execute_result"
    }
   ],
   "source": [
    "#Menampilkan berapa banyak baris dan kolom\n",
    "data.shape"
   ]
  },
  {
   "cell_type": "markdown",
   "metadata": {
    "id": "shmvxrn36Jqt"
   },
   "source": [
    "## **2 Exploratory Data Analysis**\n",
    "Langkah-langkah yang akan kita lakukan untuk EDA adalah sebagai berikut:"
   ]
  },
  {
   "cell_type": "code",
   "execution_count": 6,
   "metadata": {},
   "outputs": [
    {
     "name": "stdout",
     "output_type": "stream",
     "text": [
      "<class 'pandas.core.frame.DataFrame'>\n",
      "RangeIndex: 375864 entries, 0 to 375863\n",
      "Data columns (total 12 columns):\n",
      " #   Column                          Non-Null Count   Dtype  \n",
      "---  ------                          --------------   -----  \n",
      " 0   id                              375863 non-null  float64\n",
      " 1   product_id                      375863 non-null  float64\n",
      " 2   created_at                      375863 non-null  object \n",
      " 3   sold_at                         139079 non-null  object \n",
      " 4   cost_product                    375863 non-null  float64\n",
      " 5   product_category                375863 non-null  object \n",
      " 6   product_name                    375846 non-null  object \n",
      " 7   product_brand                   375489 non-null  object \n",
      " 8   product_retail_price            375863 non-null  float64\n",
      " 9   product_department              375863 non-null  object \n",
      " 10  product_sku                     375863 non-null  object \n",
      " 11  product_distribution_center_id  375863 non-null  float64\n",
      "dtypes: float64(5), object(7)\n",
      "memory usage: 34.4+ MB\n"
     ]
    }
   ],
   "source": [
    "#Menampilkan Informasi data\n",
    "data.info()"
   ]
  },
  {
   "cell_type": "code",
   "execution_count": 7,
   "metadata": {
    "colab": {
     "base_uri": "https://localhost:8080/"
    },
    "id": "wyBpNfcxzMqX",
    "outputId": "e07f7241-9248-4f3a-8f88-4ebcfdfe46b0",
    "scrolled": true
   },
   "outputs": [
    {
     "name": "stdout",
     "output_type": "stream",
     "text": [
      "- num of unique values in `id`: 375863\n",
      "- num of unique values in `product_id`: 22385\n",
      "- num of unique values in `created_at`: 349770\n",
      "- num of unique values in `sold_at`: 138877\n",
      "- num of unique values in `cost_product`: 20571\n",
      "- num of unique values in `product_category`: 26\n",
      "- num of unique values in `product_name`: 20939\n",
      "- num of unique values in `product_brand`: 2018\n",
      "- num of unique values in `product_retail_price`: 3613\n",
      "- num of unique values in `product_department`: 2\n",
      "- num of unique values in `product_sku`: 22385\n",
      "- num of unique values in `product_distribution_center_id`: 10\n"
     ]
    }
   ],
   "source": [
    "#melihat jumlah unik value dari masing-masing kolom\n",
    "for feature in data:\n",
    "    print(\n",
    "        f\"- num of unique values in `{feature}`:\",\n",
    "       data[feature].nunique()\n",
    "    )"
   ]
  },
  {
   "cell_type": "markdown",
   "metadata": {
    "id": "C9-w6cVU9Fks"
   },
   "source": [
    " **Insights:**\n",
    "\n",
    "Dari informasi di atas:\n",
    "- terdapat perbedaan jumlah nilai unik antara beberapa value dan yang paling banyak terletak pada `id` yaitu sebanyak 375865 \n",
    "dan paling sedikit pada departement yaitu 2.\n",
    "- karena `department` adalah fitur dengan jumlah nilai unik paling sedikit, yang mungkin berarti ada beberapa grup besar yang membagi product.\n",
    "\n",
    "Agar lebih mudah untuk diamati, kita akan buat visualisasi menggunakan fungsi berikut!"
   ]
  },
  {
   "cell_type": "code",
   "execution_count": 8,
   "metadata": {
    "id": "M95cwcid-Y5z"
   },
   "outputs": [],
   "source": [
    "#fungsi untuk membuat plot\n",
    "def plot_count(data, x=None, y=None, palette=None, figsize=(12, 6), **kwargs):\n",
    "    column_order = data[x or y].value_counts().index\n",
    "\n",
    "    plt.figure(figsize=figsize)\n",
    "    sns.countplot(\n",
    "        x=x, y=y, data=data, order=column_order,\n",
    "        palette=palette, **kwargs\n",
    "    )\n",
    "    plt.grid(False)\n",
    "\n",
    "\n",
    "MAIN_COLOR = [\"#29B5BF\"]    # warna utama untuk visualisasi\n",
    "OTHER_COLOR = [\"#777777\"]    # warna lainnya untuk visualisasi"
   ]
  },
  {
   "cell_type": "code",
   "execution_count": 9,
   "metadata": {
    "colab": {
     "base_uri": "https://localhost:8080/",
     "height": 388
    },
    "id": "6Rkrg9_7-vhq",
    "outputId": "19f29c6e-911b-449e-946d-59d98aa4dd27",
    "scrolled": false
   },
   "outputs": [
    {
     "data": {
      "image/png": "[encoded data removed]",
      "text/plain": [
       "<Figure size 864x432 with 1 Axes>"
      ]
     },
     "metadata": {
      "needs_background": "light"
     },
     "output_type": "display_data"
    }
   ],
   "source": [
    "#Menampikan Histogram departemen product \n",
    "plot_count(x=\"product_department\", data=data)"
   ]
  },
  {
   "cell_type": "markdown",
   "metadata": {
    "id": "l1PtqkWiDCGP"
   },
   "source": [
    " **Insights:**\n",
    "\n",
    "Dari visualisasi di atas, diperoleh:\n",
    "departement / jenis product  pria paling banyak terjual atau sekitar 180000-190000 terjual, sedangkan untuk wanita hanya sekitar 175000 - 179000. Sehingga dapat dikatakan pembeli paling banyak yaitu laki-laki, hal ini jauh berbanding terbalik dari kategori produk wanita yang lebih banyak daripada laki-laki."
   ]
  },
  {
   "cell_type": "code",
   "execution_count": 10,
   "metadata": {
    "colab": {
     "base_uri": "https://localhost:8080/",
     "height": 388
    },
    "id": "EDc49wUEHobV",
    "outputId": "ba5412db-d1ac-4262-8c84-6ce2f7c34fed"
   },
   "outputs": [
    {
     "data": {
      "image/png": "[encoded data removed]",
      "text/plain": [
       "<Figure size 864x432 with 1 Axes>"
      ]
     },
     "metadata": {
      "needs_background": "light"
     },
     "output_type": "display_data"
    }
   ],
   "source": [
    "#menampilkan jumlah product distribution id\n",
    "plot_count(x=\"product_distribution_center_id\", data=data)"
   ]
  },
  {
   "cell_type": "markdown",
   "metadata": {
    "id": "jxrYnrKlGe3X"
   },
   "source": [
    " **Insights:**\n",
    "\n",
    "Dari visualisasi di atas:\n",
    "\n",
    "Dapat dikatakan distribution_center_id terbanyak terletak pada nomor id '2' atau sebanyak 51000-52000. Maka dapat dikatakan pendistribusian product paling banyak terletak pada nama produk yang memiliki distribution_center_id nomor 2. dan paling sedikit terletak pada distribution_center_id nomor 10 +-260000-280000."
   ]
  },
  {
   "cell_type": "code",
   "execution_count": 11,
   "metadata": {
    "colab": {
     "base_uri": "https://localhost:8080/",
     "height": 509
    },
    "id": "WmjIb7EAJ7pB",
    "outputId": "a25ee656-b29d-4c09-927a-f22f7b5f32b8",
    "scrolled": false
   },
   "outputs": [
    {
     "data": {
      "image/png": "[encoded data removed]",
      "text/plain": [
       "<Figure size 864x576 with 1 Axes>"
      ]
     },
     "metadata": {
      "needs_background": "light"
     },
     "output_type": "display_data"
    }
   ],
   "source": [
    "#menampilkan jumlah product category yang telah terjual\n",
    "plot_count(y=\"product_category\", data=data, figsize=(12, 8))\n",
    "plt.xticks(rotation=90)\n",
    "plt.show()\n"
   ]
  },
  {
   "cell_type": "markdown",
   "metadata": {
    "id": "-PP1vB1wLAdg"
   },
   "source": [
    " **Insights:**\n",
    "\n",
    "Terlihat dari visualisasi di atas:\n",
    "* 5 warna yang teratas adalah:\n",
    "1. Intimates\n",
    "2. Swim\n",
    "3. Jeans\n",
    "4. Fasion hoodies & Sweatshirt\n",
    "5. short\n",
    "\n",
    "Dapat diasumsikan Kategori product no.3 Jeans & no.4 Fashion hoodies & swaeatshirt memiliki jumlah penjualan yang cukup tinggi. Karena banyak dikarenakan digunakan oleh laki-laki dan perempuan dan hanya dibedakan oleh motif / modelnya saja. maka dari itu memiliki jumlah penjualan yang tinggi. walaupun harga produk2 tersebut jauh lebih mahal dari product lainnya.\n",
    "\n"
   ]
  },
  {
   "cell_type": "code",
   "execution_count": 12,
   "metadata": {},
   "outputs": [
    {
     "data": {
      "image/png": "[encoded data removed]",
      "text/plain": [
       "<Figure size 432x288 with 2 Axes>"
      ]
     },
     "metadata": {
      "needs_background": "light"
     },
     "output_type": "display_data"
    }
   ],
   "source": [
    "# Visualisasikan hubungan antar data \n",
    "sns.heatmap(data.corr(), annot=True) \n",
    "plt.show()"
   ]
  },
  {
   "cell_type": "code",
   "execution_count": 13,
   "metadata": {},
   "outputs": [
    {
     "name": "stdout",
     "output_type": "stream",
     "text": [
      "                                   count       mean        std   min  \\\n",
      "id                              375863.0  243862.04  140827.04  1.00   \n",
      "product_id                      375863.0   15471.12    8465.14  1.00   \n",
      "cost_product                    375863.0      26.98      27.81  0.01   \n",
      "product_retail_price            375863.0      55.87      59.43  0.02   \n",
      "product_distribution_center_id  375863.0       5.05       2.92  1.00   \n",
      "\n",
      "                                      25%        50%        75%        max  \n",
      "id                              121984.50  243772.00  366024.50  487390.00  \n",
      "product_id                        8133.00   16346.00   22882.50   29120.00  \n",
      "cost_product                        11.03      19.49      32.88     557.15  \n",
      "product_retail_price                23.85      39.58      66.33     990.00  \n",
      "product_distribution_center_id       2.00       5.00       8.00      10.00  \n"
     ]
    }
   ],
   "source": [
    "#melihat deskripsi data secara statistik\n",
    "print(data.describe().T.round(2))"
   ]
  },
  {
   "cell_type": "markdown",
   "metadata": {
    "id": "jw8CxRi6RwfQ"
   },
   "source": [
    "**Mendeskripsikan setiap value**"
   ]
  },
  {
   "cell_type": "code",
   "execution_count": 14,
   "metadata": {},
   "outputs": [
    {
     "data": {
      "text/plain": [
       "count                                                375846\n",
       "unique                                                20939\n",
       "top       Wrangler Men's Premium Performance Cowboy Cut ...\n",
       "freq                                                    147\n",
       "Name: product_name, dtype: object"
      ]
     },
     "execution_count": 14,
     "metadata": {},
     "output_type": "execute_result"
    }
   ],
   "source": [
    "data.product_name.describe()"
   ]
  },
  {
   "cell_type": "code",
   "execution_count": 15,
   "metadata": {
    "colab": {
     "base_uri": "https://localhost:8080/"
    },
    "id": "WLkIyLR7PGmn",
    "outputId": "8f3960f1-f878-4084-aa20-c60608b57432"
   },
   "outputs": [
    {
     "data": {
      "text/plain": [
       "count        375489\n",
       "unique         2018\n",
       "top       Allegra K\n",
       "freq          16392\n",
       "Name: product_brand, dtype: object"
      ]
     },
     "execution_count": 15,
     "metadata": {},
     "output_type": "execute_result"
    }
   ],
   "source": [
    "##### melihat deskripsi brand product\n",
    "data.product_brand.describe()"
   ]
  },
  {
   "cell_type": "code",
   "execution_count": 16,
   "metadata": {
    "colab": {
     "base_uri": "https://localhost:8080/"
    },
    "id": "-c-Tm0n_P0H9",
    "outputId": "3670edd9-8af0-40b6-eaf9-0f56634ab28e"
   },
   "outputs": [
    {
     "data": {
      "text/plain": [
       "count        375863\n",
       "unique           26\n",
       "top       Intimates\n",
       "freq          29055\n",
       "Name: product_category, dtype: object"
      ]
     },
     "execution_count": 16,
     "metadata": {},
     "output_type": "execute_result"
    }
   ],
   "source": [
    "#melihat deskripsi product category\n",
    "data.product_category.describe()"
   ]
  },
  {
   "cell_type": "code",
   "execution_count": 17,
   "metadata": {
    "colab": {
     "base_uri": "https://localhost:8080/"
    },
    "id": "pLDcZ3TZQLkG",
    "outputId": "761e4c8c-9d68-4260-d355-dccecdc5c78c"
   },
   "outputs": [
    {
     "data": {
      "text/plain": [
       "count    375863.000000\n",
       "mean         26.975910\n",
       "std          27.814531\n",
       "min           0.008300\n",
       "25%          11.033400\n",
       "50%          19.489821\n",
       "75%          32.880000\n",
       "max         557.151002\n",
       "Name: cost_product, dtype: float64"
      ]
     },
     "execution_count": 17,
     "metadata": {},
     "output_type": "execute_result"
    }
   ],
   "source": [
    "#melihat deskripsi cost product\n",
    "data.cost_product.describe()"
   ]
  },
  {
   "cell_type": "code",
   "execution_count": 18,
   "metadata": {},
   "outputs": [
    {
     "data": {
      "text/plain": [
       "count    375863.000000\n",
       "mean         55.874503\n",
       "std          59.425964\n",
       "min           0.020000\n",
       "25%          23.850000\n",
       "50%          39.580002\n",
       "75%          66.330002\n",
       "max         990.000000\n",
       "Name: product_retail_price, dtype: float64"
      ]
     },
     "execution_count": 18,
     "metadata": {},
     "output_type": "execute_result"
    }
   ],
   "source": [
    "#melihat deskripsi product retail price\n",
    "data.product_retail_price.describe()"
   ]
  },
  {
   "cell_type": "code",
   "execution_count": 19,
   "metadata": {},
   "outputs": [
    {
     "data": {
      "text/plain": [
       "count                        375863\n",
       "unique                       349770\n",
       "top       2022-03-20 14:50:00+00:00\n",
       "freq                              5\n",
       "Name: created_at, dtype: object"
      ]
     },
     "execution_count": 19,
     "metadata": {},
     "output_type": "execute_result"
    }
   ],
   "source": [
    "#melihat deskripsi created at\n",
    "data.created_at.describe()"
   ]
  },
  {
   "cell_type": "code",
   "execution_count": 20,
   "metadata": {},
   "outputs": [
    {
     "data": {
      "text/plain": [
       "count                        139079\n",
       "unique                       138877\n",
       "top       2022-03-10 07:49:24+00:00\n",
       "freq                              3\n",
       "Name: sold_at, dtype: object"
      ]
     },
     "execution_count": 20,
     "metadata": {},
     "output_type": "execute_result"
    }
   ],
   "source": [
    "#melihat deskripsi  sold at\n",
    "data.sold_at.describe()"
   ]
  },
  {
   "cell_type": "markdown",
   "metadata": {
    "id": "sQdTEtuYPYL5"
   },
   "source": [
    "**Insights:**\n",
    "\n",
    "Dari data diatas dapat dikatakan \n",
    "1.  Brand paling banyak dibeli yaitu Allegra K, yaitu sebanyak 375490.\n",
    "2. kategori produk yang paling banyak terjual yaitu  Intimates.\n",
    "\n",
    "3. Harga asli produk termahal yaitu 557.151002 dan termurah 0.008300 dengan rata-rata  26.975850.\n",
    "4. Harga retail produk termahal 999.000000 dan termurah 0.020000 dengan rata-rata 55.874386.\n",
    "5. Produk yang telah dibuat sebanyak 375865 dan Produk yang paling banyak dibuat yaitu pada tanggal 2020-10-29 07:51:00+00:00\n",
    "6. Produk yang telah terjual sebanyak 139080 dan produk paling banyak terjual yaitu pada tanggal 2022-03-10 07:49:24+00:00"
   ]
  },
  {
   "cell_type": "markdown",
   "metadata": {
    "id": "tpVG6mx32VEr"
   },
   "source": [
    "## **2 Data Preprocessing**\n",
    "Tujuannya disini adalah untuk menghilangkan kata dan karakter yang tidak perlu agar kata-kata yang tidak bermakna untuk menambah tabel dengan PosgreSQL dan memvisualisasikan/ membuat dashboard dengan Tableau nantinya.\n",
    "\n"
   ]
  },
  {
   "cell_type": "code",
   "execution_count": 21,
   "metadata": {
    "colab": {
     "base_uri": "https://localhost:8080/",
     "height": 320
    },
    "id": "-EGoqYYB1X87",
    "outputId": "04d4092c-f0fe-474d-c98d-e38beef99797"
   },
   "outputs": [
    {
     "data": {
      "text/html": [
       "<div>\n",
       "<style scoped>\n",
       "    .dataframe tbody tr th:only-of-type {\n",
       "        vertical-align: middle;\n",
       "    }\n",
       "\n",
       "    .dataframe tbody tr th {\n",
       "        vertical-align: top;\n",
       "    }\n",
       "\n",
       "    .dataframe thead th {\n",
       "        text-align: right;\n",
       "    }\n",
       "</style>\n",
       "<table border=\"1\" class=\"dataframe\">\n",
       "  <thead>\n",
       "    <tr style=\"text-align: right;\">\n",
       "      <th></th>\n",
       "      <th>id</th>\n",
       "      <th>product_id</th>\n",
       "      <th>created_at</th>\n",
       "      <th>sold_at</th>\n",
       "      <th>cost_product</th>\n",
       "      <th>product_category</th>\n",
       "      <th>product_name</th>\n",
       "      <th>product_brand</th>\n",
       "      <th>product_retail_price</th>\n",
       "      <th>product_department</th>\n",
       "      <th>product_distribution_center_id</th>\n",
       "    </tr>\n",
       "  </thead>\n",
       "  <tbody>\n",
       "    <tr>\n",
       "      <th>0</th>\n",
       "      <td>90967.0</td>\n",
       "      <td>16898.0</td>\n",
       "      <td>2021-07-19 02:20:10+00:00</td>\n",
       "      <td>2021-07-20 14:34:10+00:00</td>\n",
       "      <td>13.925</td>\n",
       "      <td>Tops &amp; Tees</td>\n",
       "      <td>Quiksilver Waterman Men's On The Rise</td>\n",
       "      <td>NaN</td>\n",
       "      <td>25.0</td>\n",
       "      <td>Men</td>\n",
       "      <td>3.0</td>\n",
       "    </tr>\n",
       "    <tr>\n",
       "      <th>1</th>\n",
       "      <td>90968.0</td>\n",
       "      <td>16898.0</td>\n",
       "      <td>2020-04-13 07:46:00+00:00</td>\n",
       "      <td>NaN</td>\n",
       "      <td>13.925</td>\n",
       "      <td>Tops &amp; Tees</td>\n",
       "      <td>Quiksilver Waterman Men's On The Rise</td>\n",
       "      <td>NaN</td>\n",
       "      <td>25.0</td>\n",
       "      <td>Men</td>\n",
       "      <td>3.0</td>\n",
       "    </tr>\n",
       "    <tr>\n",
       "      <th>2</th>\n",
       "      <td>90969.0</td>\n",
       "      <td>16898.0</td>\n",
       "      <td>2020-09-02 17:43:00+00:00</td>\n",
       "      <td>NaN</td>\n",
       "      <td>13.925</td>\n",
       "      <td>Tops &amp; Tees</td>\n",
       "      <td>Quiksilver Waterman Men's On The Rise</td>\n",
       "      <td>NaN</td>\n",
       "      <td>25.0</td>\n",
       "      <td>Men</td>\n",
       "      <td>3.0</td>\n",
       "    </tr>\n",
       "    <tr>\n",
       "      <th>3</th>\n",
       "      <td>90970.0</td>\n",
       "      <td>16898.0</td>\n",
       "      <td>2021-08-19 15:17:00+00:00</td>\n",
       "      <td>NaN</td>\n",
       "      <td>13.925</td>\n",
       "      <td>Tops &amp; Tees</td>\n",
       "      <td>Quiksilver Waterman Men's On The Rise</td>\n",
       "      <td>NaN</td>\n",
       "      <td>25.0</td>\n",
       "      <td>Men</td>\n",
       "      <td>3.0</td>\n",
       "    </tr>\n",
       "    <tr>\n",
       "      <th>4</th>\n",
       "      <td>96715.0</td>\n",
       "      <td>16898.0</td>\n",
       "      <td>2020-05-09 11:16:10+00:00</td>\n",
       "      <td>2020-06-23 23:59:10+00:00</td>\n",
       "      <td>13.925</td>\n",
       "      <td>Tops &amp; Tees</td>\n",
       "      <td>Quiksilver Waterman Men's On The Rise</td>\n",
       "      <td>NaN</td>\n",
       "      <td>25.0</td>\n",
       "      <td>Men</td>\n",
       "      <td>3.0</td>\n",
       "    </tr>\n",
       "  </tbody>\n",
       "</table>\n",
       "</div>"
      ],
      "text/plain": [
       "        id  product_id                 created_at                    sold_at  \\\n",
       "0  90967.0     16898.0  2021-07-19 02:20:10+00:00  2021-07-20 14:34:10+00:00   \n",
       "1  90968.0     16898.0  2020-04-13 07:46:00+00:00                        NaN   \n",
       "2  90969.0     16898.0  2020-09-02 17:43:00+00:00                        NaN   \n",
       "3  90970.0     16898.0  2021-08-19 15:17:00+00:00                        NaN   \n",
       "4  96715.0     16898.0  2020-05-09 11:16:10+00:00  2020-06-23 23:59:10+00:00   \n",
       "\n",
       "   cost_product product_category                           product_name  \\\n",
       "0        13.925      Tops & Tees  Quiksilver Waterman Men's On The Rise   \n",
       "1        13.925      Tops & Tees  Quiksilver Waterman Men's On The Rise   \n",
       "2        13.925      Tops & Tees  Quiksilver Waterman Men's On The Rise   \n",
       "3        13.925      Tops & Tees  Quiksilver Waterman Men's On The Rise   \n",
       "4        13.925      Tops & Tees  Quiksilver Waterman Men's On The Rise   \n",
       "\n",
       "  product_brand  product_retail_price product_department  \\\n",
       "0           NaN                  25.0                Men   \n",
       "1           NaN                  25.0                Men   \n",
       "2           NaN                  25.0                Men   \n",
       "3           NaN                  25.0                Men   \n",
       "4           NaN                  25.0                Men   \n",
       "\n",
       "   product_distribution_center_id  \n",
       "0                             3.0  \n",
       "1                             3.0  \n",
       "2                             3.0  \n",
       "3                             3.0  \n",
       "4                             3.0  "
      ]
     },
     "execution_count": 21,
     "metadata": {},
     "output_type": "execute_result"
    }
   ],
   "source": [
    "#membuang kolom product sku\n",
    "data.drop(['product_sku'],axis=1,inplace=True)\n",
    "data.head() #MASIH TERDAPAT BANYAK MISSING VALUE"
   ]
  },
  {
   "cell_type": "code",
   "execution_count": 22,
   "metadata": {
    "colab": {
     "base_uri": "https://localhost:8080/",
     "height": 49
    },
    "id": "pWS9TdvoNO4u",
    "outputId": "ca409cc9-dd79-4634-d8d0-06df6700e04a"
   },
   "outputs": [
    {
     "data": {
      "text/html": [
       "<div>\n",
       "<style scoped>\n",
       "    .dataframe tbody tr th:only-of-type {\n",
       "        vertical-align: middle;\n",
       "    }\n",
       "\n",
       "    .dataframe tbody tr th {\n",
       "        vertical-align: top;\n",
       "    }\n",
       "\n",
       "    .dataframe thead th {\n",
       "        text-align: right;\n",
       "    }\n",
       "</style>\n",
       "<table border=\"1\" class=\"dataframe\">\n",
       "  <thead>\n",
       "    <tr style=\"text-align: right;\">\n",
       "      <th></th>\n",
       "      <th>id</th>\n",
       "      <th>product_id</th>\n",
       "      <th>created_at</th>\n",
       "      <th>sold_at</th>\n",
       "      <th>cost_product</th>\n",
       "      <th>product_category</th>\n",
       "      <th>product_name</th>\n",
       "      <th>product_brand</th>\n",
       "      <th>product_retail_price</th>\n",
       "      <th>product_department</th>\n",
       "      <th>product_distribution_center_id</th>\n",
       "    </tr>\n",
       "  </thead>\n",
       "  <tbody>\n",
       "    <tr>\n",
       "      <th>375863</th>\n",
       "      <td>NaN</td>\n",
       "      <td>NaN</td>\n",
       "      <td>NaN</td>\n",
       "      <td>NaN</td>\n",
       "      <td>NaN</td>\n",
       "      <td>NaN</td>\n",
       "      <td>NaN</td>\n",
       "      <td>NaN</td>\n",
       "      <td>NaN</td>\n",
       "      <td>NaN</td>\n",
       "      <td>NaN</td>\n",
       "    </tr>\n",
       "  </tbody>\n",
       "</table>\n",
       "</div>"
      ],
      "text/plain": [
       "        id  product_id created_at sold_at  cost_product product_category  \\\n",
       "375863 NaN         NaN        NaN     NaN           NaN              NaN   \n",
       "\n",
       "       product_name product_brand  product_retail_price product_department  \\\n",
       "375863          NaN           NaN                   NaN                NaN   \n",
       "\n",
       "        product_distribution_center_id  \n",
       "375863                             NaN  "
      ]
     },
     "execution_count": 22,
     "metadata": {},
     "output_type": "execute_result"
    }
   ],
   "source": [
    "#mengecek kolom yang ada missing value nya\n",
    "data[data.isna().all(axis=1)]"
   ]
  },
  {
   "cell_type": "code",
   "execution_count": 23,
   "metadata": {},
   "outputs": [
    {
     "data": {
      "text/plain": [
       "id                                     1\n",
       "product_id                             1\n",
       "created_at                             1\n",
       "sold_at                           236785\n",
       "cost_product                           1\n",
       "product_category                       1\n",
       "product_name                          18\n",
       "product_brand                        375\n",
       "product_retail_price                   1\n",
       "product_department                     1\n",
       "product_distribution_center_id         1\n",
       "dtype: int64"
      ]
     },
     "execution_count": 23,
     "metadata": {},
     "output_type": "execute_result"
    }
   ],
   "source": [
    "data.isnull().sum()"
   ]
  },
  {
   "cell_type": "markdown",
   "metadata": {
    "id": "0azmora9NXGV"
   },
   "source": [
    "> **Insights:**\n",
    "\n",
    "Dari data di atas, terlihat bahwa ada baris yang nilai fiturnya kosong."
   ]
  },
  {
   "cell_type": "markdown",
   "metadata": {},
   "source": [
    "**Insights:**\n",
    "Dari data diatas terlihat ada banyak sekali missing value terutama pada kolom sold_at sebanyak 236785 dan product_brand sebanyak 375. \n",
    "\n",
    "Maka dari itu akan saya melakukan data cleansing!"
   ]
  },
  {
   "cell_type": "markdown",
   "metadata": {},
   "source": [
    "### Data Cleansing & Data handle"
   ]
  },
  {
   "cell_type": "code",
   "execution_count": 24,
   "metadata": {},
   "outputs": [
    {
     "name": "stdout",
     "output_type": "stream",
     "text": [
      "Number of NaN Values for the columnssold_at 236785\n"
     ]
    }
   ],
   "source": [
    "#melihat missing value dari sold_at\n",
    "print(\"Number of NaN Values for the columns\" 'sold_at', data['sold_at'].isnull().sum())"
   ]
  },
  {
   "cell_type": "code",
   "execution_count": 25,
   "metadata": {},
   "outputs": [
    {
     "name": "stdout",
     "output_type": "stream",
     "text": [
      "Number of NaN Values for the columnsproduct_brand 375\n"
     ]
    }
   ],
   "source": [
    "#melihat missing value dari product brand\n",
    "print(\"Number of NaN Values for the columns\" 'product_brand', data['product_brand'].isnull().sum())"
   ]
  },
  {
   "cell_type": "code",
   "execution_count": 26,
   "metadata": {},
   "outputs": [
    {
     "name": "stdout",
     "output_type": "stream",
     "text": [
      "Number of NaN Values for the columnsproduct_name 18\n"
     ]
    }
   ],
   "source": [
    "#melihat missing value dari product name\n",
    "print(\"Number of NaN Values for the columns\" 'product_name', data['product_name'].isnull().sum())"
   ]
  },
  {
   "cell_type": "code",
   "execution_count": 27,
   "metadata": {},
   "outputs": [],
   "source": [
    "#Mengganti missing value dengan nilai 0 pada tabel 'sold_at'\n",
    "data[['sold_at']] = data[['sold_at']].fillna('2022-12-12 02:20:10+00:00')"
   ]
  },
  {
   "cell_type": "code",
   "execution_count": 28,
   "metadata": {},
   "outputs": [],
   "source": [
    "#Mengganti missing value dengan Other Name pada tabel'product_Name'\n",
    "data[['product_name']] = data[[ 'product_name']].fillna('Other_name')"
   ]
  },
  {
   "cell_type": "code",
   "execution_count": 29,
   "metadata": {},
   "outputs": [],
   "source": [
    "#Mengganti missing value dengan Other brand pada tabel'product_brand'\n",
    "data[['product_brand']] = data[[ 'product_brand']].fillna('Other_brand')"
   ]
  },
  {
   "cell_type": "code",
   "execution_count": 30,
   "metadata": {},
   "outputs": [
    {
     "data": {
      "text/plain": [
       "sold_at          0\n",
       "product_brand    0\n",
       "product_name     0\n",
       "dtype: int64"
      ]
     },
     "execution_count": 30,
     "metadata": {},
     "output_type": "execute_result"
    }
   ],
   "source": [
    "# Cek missing values\n",
    "data[['sold_at', 'product_brand', 'product_name']].isna().sum()"
   ]
  },
  {
   "cell_type": "code",
   "execution_count": 31,
   "metadata": {},
   "outputs": [
    {
     "data": {
      "text/html": [
       "<div>\n",
       "<style scoped>\n",
       "    .dataframe tbody tr th:only-of-type {\n",
       "        vertical-align: middle;\n",
       "    }\n",
       "\n",
       "    .dataframe tbody tr th {\n",
       "        vertical-align: top;\n",
       "    }\n",
       "\n",
       "    .dataframe thead th {\n",
       "        text-align: right;\n",
       "    }\n",
       "</style>\n",
       "<table border=\"1\" class=\"dataframe\">\n",
       "  <thead>\n",
       "    <tr style=\"text-align: right;\">\n",
       "      <th></th>\n",
       "      <th>sold_at</th>\n",
       "      <th>product_name</th>\n",
       "      <th>product_brand</th>\n",
       "    </tr>\n",
       "  </thead>\n",
       "  <tbody>\n",
       "    <tr>\n",
       "      <th>0</th>\n",
       "      <td>2021-07-20 14:34:10+00:00</td>\n",
       "      <td>Quiksilver Waterman Men's On The Rise</td>\n",
       "      <td>Other_brand</td>\n",
       "    </tr>\n",
       "    <tr>\n",
       "      <th>1</th>\n",
       "      <td>2022-12-12 02:20:10+00:00</td>\n",
       "      <td>Quiksilver Waterman Men's On The Rise</td>\n",
       "      <td>Other_brand</td>\n",
       "    </tr>\n",
       "    <tr>\n",
       "      <th>2</th>\n",
       "      <td>2022-12-12 02:20:10+00:00</td>\n",
       "      <td>Quiksilver Waterman Men's On The Rise</td>\n",
       "      <td>Other_brand</td>\n",
       "    </tr>\n",
       "    <tr>\n",
       "      <th>3</th>\n",
       "      <td>2022-12-12 02:20:10+00:00</td>\n",
       "      <td>Quiksilver Waterman Men's On The Rise</td>\n",
       "      <td>Other_brand</td>\n",
       "    </tr>\n",
       "    <tr>\n",
       "      <th>4</th>\n",
       "      <td>2020-06-23 23:59:10+00:00</td>\n",
       "      <td>Quiksilver Waterman Men's On The Rise</td>\n",
       "      <td>Other_brand</td>\n",
       "    </tr>\n",
       "    <tr>\n",
       "      <th>...</th>\n",
       "      <td>...</td>\n",
       "      <td>...</td>\n",
       "      <td>...</td>\n",
       "    </tr>\n",
       "    <tr>\n",
       "      <th>375859</th>\n",
       "      <td>2020-08-03 16:30:20+00:00</td>\n",
       "      <td>Fresh Laundry Women's Long Sleeve Hoodie</td>\n",
       "      <td>Fresh Laundry</td>\n",
       "    </tr>\n",
       "    <tr>\n",
       "      <th>375860</th>\n",
       "      <td>2022-12-12 02:20:10+00:00</td>\n",
       "      <td>Fresh Laundry Women's Long Sleeve Hoodie</td>\n",
       "      <td>Fresh Laundry</td>\n",
       "    </tr>\n",
       "    <tr>\n",
       "      <th>375861</th>\n",
       "      <td>2022-06-04 11:04:28.406446+00:00</td>\n",
       "      <td>Fresh Laundry Women's Long Sleeve Hoodie</td>\n",
       "      <td>Fresh Laundry</td>\n",
       "    </tr>\n",
       "    <tr>\n",
       "      <th>375862</th>\n",
       "      <td>2022-12-12 02:20:10+00:00</td>\n",
       "      <td>Fresh Laundry Women's Long Sleeve Hoodie</td>\n",
       "      <td>Fresh Laundry</td>\n",
       "    </tr>\n",
       "    <tr>\n",
       "      <th>375863</th>\n",
       "      <td>2022-12-12 02:20:10+00:00</td>\n",
       "      <td>Other_name</td>\n",
       "      <td>Other_brand</td>\n",
       "    </tr>\n",
       "  </tbody>\n",
       "</table>\n",
       "<p>375864 rows × 3 columns</p>\n",
       "</div>"
      ],
      "text/plain": [
       "                                 sold_at  \\\n",
       "0              2021-07-20 14:34:10+00:00   \n",
       "1              2022-12-12 02:20:10+00:00   \n",
       "2              2022-12-12 02:20:10+00:00   \n",
       "3              2022-12-12 02:20:10+00:00   \n",
       "4              2020-06-23 23:59:10+00:00   \n",
       "...                                  ...   \n",
       "375859         2020-08-03 16:30:20+00:00   \n",
       "375860         2022-12-12 02:20:10+00:00   \n",
       "375861  2022-06-04 11:04:28.406446+00:00   \n",
       "375862         2022-12-12 02:20:10+00:00   \n",
       "375863         2022-12-12 02:20:10+00:00   \n",
       "\n",
       "                                    product_name  product_brand  \n",
       "0          Quiksilver Waterman Men's On The Rise    Other_brand  \n",
       "1          Quiksilver Waterman Men's On The Rise    Other_brand  \n",
       "2          Quiksilver Waterman Men's On The Rise    Other_brand  \n",
       "3          Quiksilver Waterman Men's On The Rise    Other_brand  \n",
       "4          Quiksilver Waterman Men's On The Rise    Other_brand  \n",
       "...                                          ...            ...  \n",
       "375859  Fresh Laundry Women's Long Sleeve Hoodie  Fresh Laundry  \n",
       "375860  Fresh Laundry Women's Long Sleeve Hoodie  Fresh Laundry  \n",
       "375861  Fresh Laundry Women's Long Sleeve Hoodie  Fresh Laundry  \n",
       "375862  Fresh Laundry Women's Long Sleeve Hoodie  Fresh Laundry  \n",
       "375863                                Other_name    Other_brand  \n",
       "\n",
       "[375864 rows x 3 columns]"
      ]
     },
     "execution_count": 31,
     "metadata": {},
     "output_type": "execute_result"
    }
   ],
   "source": [
    "#mengecek missing value dari data\n",
    "data.dropna(axis=1)"
   ]
  },
  {
   "cell_type": "code",
   "execution_count": 32,
   "metadata": {
    "scrolled": true
   },
   "outputs": [
    {
     "data": {
      "text/plain": [
       "cost_product                      1\n",
       "product_category                  1\n",
       "product_retail_price              1\n",
       "product_department                1\n",
       "product_distribution_center_id    1\n",
       "dtype: int64"
      ]
     },
     "execution_count": 32,
     "metadata": {},
     "output_type": "execute_result"
    }
   ],
   "source": [
    "#melihat missing value dari data yang NaN nya 1\n",
    "data[['cost_product','product_category','product_retail_price','product_department','product_distribution_center_id']].isna().sum()"
   ]
  },
  {
   "cell_type": "code",
   "execution_count": 33,
   "metadata": {},
   "outputs": [],
   "source": [
    "#Mengganti  missing value yang jumlahnya sedikit / 1 dengan all\n",
    "data[['product_category','product_department']] = data[['product_category','product_department']].fillna('all')"
   ]
  },
  {
   "cell_type": "code",
   "execution_count": 34,
   "metadata": {},
   "outputs": [],
   "source": [
    "#Mengganti missing value yang jumlahnya sedikit / 1 dengan 0\n",
    "data[['product_distribution_center_id']] = data[['product_distribution_center_id']].fillna(0)"
   ]
  },
  {
   "cell_type": "code",
   "execution_count": 35,
   "metadata": {},
   "outputs": [],
   "source": [
    "#Menghapus missing value yang jumlahnya sedikit / 1 dengan 0\n",
    "data[['id','product_id']] = data[['id','product_id']].fillna(0)"
   ]
  },
  {
   "cell_type": "code",
   "execution_count": 36,
   "metadata": {},
   "outputs": [],
   "source": [
    "#Menghapus missing value yang jumlahnya sedikit / 1 dengan 0\n",
    "data[['created_at']] = data[['created_at']].fillna('2021-07-19 02:20:10+00:00')"
   ]
  },
  {
   "cell_type": "code",
   "execution_count": 37,
   "metadata": {},
   "outputs": [],
   "source": [
    "#Menghapus missing value yang jumlahnya sedikit / 1 dengan 0\n",
    "data[['cost_product','product_retail_price']] = data[['cost_product','product_retail_price']].fillna(0)"
   ]
  },
  {
   "cell_type": "code",
   "execution_count": 38,
   "metadata": {},
   "outputs": [
    {
     "data": {
      "text/plain": [
       "cost_product                      0\n",
       "product_category                  0\n",
       "product_retail_price              0\n",
       "product_department                0\n",
       "product_distribution_center_id    0\n",
       "dtype: int64"
      ]
     },
     "execution_count": 38,
     "metadata": {},
     "output_type": "execute_result"
    }
   ],
   "source": [
    "\n",
    "#mengecek missing value dari data yang NaN nya 1\n",
    "data[['cost_product','product_category','product_retail_price','product_department','product_distribution_center_id']].isna().sum()"
   ]
  },
  {
   "cell_type": "code",
   "execution_count": 39,
   "metadata": {},
   "outputs": [
    {
     "data": {
      "text/plain": [
       "<bound method NDFrame._add_numeric_operations.<locals>.sum of            id  product_id  created_at  sold_at  cost_product  \\\n",
       "0       False       False       False    False         False   \n",
       "1       False       False       False    False         False   \n",
       "2       False       False       False    False         False   \n",
       "3       False       False       False    False         False   \n",
       "4       False       False       False    False         False   \n",
       "...       ...         ...         ...      ...           ...   \n",
       "375859  False       False       False    False         False   \n",
       "375860  False       False       False    False         False   \n",
       "375861  False       False       False    False         False   \n",
       "375862  False       False       False    False         False   \n",
       "375863  False       False       False    False         False   \n",
       "\n",
       "        product_category  product_name  product_brand  product_retail_price  \\\n",
       "0                  False         False          False                 False   \n",
       "1                  False         False          False                 False   \n",
       "2                  False         False          False                 False   \n",
       "3                  False         False          False                 False   \n",
       "4                  False         False          False                 False   \n",
       "...                  ...           ...            ...                   ...   \n",
       "375859             False         False          False                 False   \n",
       "375860             False         False          False                 False   \n",
       "375861             False         False          False                 False   \n",
       "375862             False         False          False                 False   \n",
       "375863             False         False          False                 False   \n",
       "\n",
       "        product_department  product_distribution_center_id  \n",
       "0                    False                           False  \n",
       "1                    False                           False  \n",
       "2                    False                           False  \n",
       "3                    False                           False  \n",
       "4                    False                           False  \n",
       "...                    ...                             ...  \n",
       "375859               False                           False  \n",
       "375860               False                           False  \n",
       "375861               False                           False  \n",
       "375862               False                           False  \n",
       "375863               False                           False  \n",
       "\n",
       "[375864 rows x 11 columns]>"
      ]
     },
     "execution_count": 39,
     "metadata": {},
     "output_type": "execute_result"
    }
   ],
   "source": [
    "data.isna().sum #CEK MISSING VALUE TOTAL"
   ]
  },
  {
   "cell_type": "code",
   "execution_count": 40,
   "metadata": {},
   "outputs": [
    {
     "data": {
      "text/plain": [
       "id                                0\n",
       "product_id                        0\n",
       "created_at                        0\n",
       "sold_at                           0\n",
       "cost_product                      0\n",
       "product_category                  0\n",
       "product_name                      0\n",
       "product_brand                     0\n",
       "product_retail_price              0\n",
       "product_department                0\n",
       "product_distribution_center_id    0\n",
       "dtype: int64"
      ]
     },
     "execution_count": 40,
     "metadata": {},
     "output_type": "execute_result"
    }
   ],
   "source": [
    "##melihat missing value sekali lagi\n",
    "data.isna().sum()"
   ]
  },
  {
   "cell_type": "code",
   "execution_count": 41,
   "metadata": {},
   "outputs": [
    {
     "data": {
      "text/html": [
       "<div>\n",
       "<style scoped>\n",
       "    .dataframe tbody tr th:only-of-type {\n",
       "        vertical-align: middle;\n",
       "    }\n",
       "\n",
       "    .dataframe tbody tr th {\n",
       "        vertical-align: top;\n",
       "    }\n",
       "\n",
       "    .dataframe thead th {\n",
       "        text-align: right;\n",
       "    }\n",
       "</style>\n",
       "<table border=\"1\" class=\"dataframe\">\n",
       "  <thead>\n",
       "    <tr style=\"text-align: right;\">\n",
       "      <th></th>\n",
       "      <th>id</th>\n",
       "      <th>product_id</th>\n",
       "      <th>created_at</th>\n",
       "      <th>sold_at</th>\n",
       "      <th>cost_product</th>\n",
       "      <th>product_category</th>\n",
       "      <th>product_name</th>\n",
       "      <th>product_brand</th>\n",
       "      <th>product_retail_price</th>\n",
       "      <th>product_department</th>\n",
       "      <th>product_distribution_center_id</th>\n",
       "    </tr>\n",
       "  </thead>\n",
       "  <tbody>\n",
       "    <tr>\n",
       "      <th>0</th>\n",
       "      <td>90967.0</td>\n",
       "      <td>16898.0</td>\n",
       "      <td>2021-07-19 02:20:10+00:00</td>\n",
       "      <td>2021-07-20 14:34:10+00:00</td>\n",
       "      <td>13.925</td>\n",
       "      <td>Tops &amp; Tees</td>\n",
       "      <td>Quiksilver Waterman Men's On The Rise</td>\n",
       "      <td>Other_brand</td>\n",
       "      <td>25.0</td>\n",
       "      <td>Men</td>\n",
       "      <td>3.0</td>\n",
       "    </tr>\n",
       "    <tr>\n",
       "      <th>1</th>\n",
       "      <td>90968.0</td>\n",
       "      <td>16898.0</td>\n",
       "      <td>2020-04-13 07:46:00+00:00</td>\n",
       "      <td>2022-12-12 02:20:10+00:00</td>\n",
       "      <td>13.925</td>\n",
       "      <td>Tops &amp; Tees</td>\n",
       "      <td>Quiksilver Waterman Men's On The Rise</td>\n",
       "      <td>Other_brand</td>\n",
       "      <td>25.0</td>\n",
       "      <td>Men</td>\n",
       "      <td>3.0</td>\n",
       "    </tr>\n",
       "    <tr>\n",
       "      <th>2</th>\n",
       "      <td>90969.0</td>\n",
       "      <td>16898.0</td>\n",
       "      <td>2020-09-02 17:43:00+00:00</td>\n",
       "      <td>2022-12-12 02:20:10+00:00</td>\n",
       "      <td>13.925</td>\n",
       "      <td>Tops &amp; Tees</td>\n",
       "      <td>Quiksilver Waterman Men's On The Rise</td>\n",
       "      <td>Other_brand</td>\n",
       "      <td>25.0</td>\n",
       "      <td>Men</td>\n",
       "      <td>3.0</td>\n",
       "    </tr>\n",
       "    <tr>\n",
       "      <th>3</th>\n",
       "      <td>90970.0</td>\n",
       "      <td>16898.0</td>\n",
       "      <td>2021-08-19 15:17:00+00:00</td>\n",
       "      <td>2022-12-12 02:20:10+00:00</td>\n",
       "      <td>13.925</td>\n",
       "      <td>Tops &amp; Tees</td>\n",
       "      <td>Quiksilver Waterman Men's On The Rise</td>\n",
       "      <td>Other_brand</td>\n",
       "      <td>25.0</td>\n",
       "      <td>Men</td>\n",
       "      <td>3.0</td>\n",
       "    </tr>\n",
       "    <tr>\n",
       "      <th>4</th>\n",
       "      <td>96715.0</td>\n",
       "      <td>16898.0</td>\n",
       "      <td>2020-05-09 11:16:10+00:00</td>\n",
       "      <td>2020-06-23 23:59:10+00:00</td>\n",
       "      <td>13.925</td>\n",
       "      <td>Tops &amp; Tees</td>\n",
       "      <td>Quiksilver Waterman Men's On The Rise</td>\n",
       "      <td>Other_brand</td>\n",
       "      <td>25.0</td>\n",
       "      <td>Men</td>\n",
       "      <td>3.0</td>\n",
       "    </tr>\n",
       "  </tbody>\n",
       "</table>\n",
       "</div>"
      ],
      "text/plain": [
       "        id  product_id                 created_at                    sold_at  \\\n",
       "0  90967.0     16898.0  2021-07-19 02:20:10+00:00  2021-07-20 14:34:10+00:00   \n",
       "1  90968.0     16898.0  2020-04-13 07:46:00+00:00  2022-12-12 02:20:10+00:00   \n",
       "2  90969.0     16898.0  2020-09-02 17:43:00+00:00  2022-12-12 02:20:10+00:00   \n",
       "3  90970.0     16898.0  2021-08-19 15:17:00+00:00  2022-12-12 02:20:10+00:00   \n",
       "4  96715.0     16898.0  2020-05-09 11:16:10+00:00  2020-06-23 23:59:10+00:00   \n",
       "\n",
       "   cost_product product_category                           product_name  \\\n",
       "0        13.925      Tops & Tees  Quiksilver Waterman Men's On The Rise   \n",
       "1        13.925      Tops & Tees  Quiksilver Waterman Men's On The Rise   \n",
       "2        13.925      Tops & Tees  Quiksilver Waterman Men's On The Rise   \n",
       "3        13.925      Tops & Tees  Quiksilver Waterman Men's On The Rise   \n",
       "4        13.925      Tops & Tees  Quiksilver Waterman Men's On The Rise   \n",
       "\n",
       "  product_brand  product_retail_price product_department  \\\n",
       "0   Other_brand                  25.0                Men   \n",
       "1   Other_brand                  25.0                Men   \n",
       "2   Other_brand                  25.0                Men   \n",
       "3   Other_brand                  25.0                Men   \n",
       "4   Other_brand                  25.0                Men   \n",
       "\n",
       "   product_distribution_center_id  \n",
       "0                             3.0  \n",
       "1                             3.0  \n",
       "2                             3.0  \n",
       "3                             3.0  \n",
       "4                             3.0  "
      ]
     },
     "execution_count": 41,
     "metadata": {},
     "output_type": "execute_result"
    }
   ],
   "source": [
    "data.head() #sudah tidak ada missing value karena data sudah bersihkan dan diubah namanya."
   ]
  },
  {
   "cell_type": "markdown",
   "metadata": {},
   "source": [
    "**Insights:**\n",
    "Seluruh missing value sudah dibersihkan dan diubah namanya."
   ]
  },
  {
   "cell_type": "markdown",
   "metadata": {},
   "source": [
    "### Handle Data"
   ]
  },
  {
   "cell_type": "code",
   "execution_count": 42,
   "metadata": {},
   "outputs": [
    {
     "name": "stdout",
     "output_type": "stream",
     "text": [
      "id                                            float64\n",
      "product_id                                    float64\n",
      "created_at                        datetime64[ns, UTC]\n",
      "sold_at                                        object\n",
      "cost_product                                  float64\n",
      "product_category                               object\n",
      "product_name                                   object\n",
      "product_brand                                  object\n",
      "product_retail_price                          float64\n",
      "product_department                             object\n",
      "product_distribution_center_id                float64\n",
      "dtype: object\n"
     ]
    }
   ],
   "source": [
    "# Pada kolom created at ubah tipe data menjadi datetime\n",
    "data['created_at']=pd.to_datetime(data['created_at'], infer_datetime_format=True)\n",
    "\n",
    "# Cek tipe data \n",
    "print (data.dtypes) "
   ]
  },
  {
   "cell_type": "code",
   "execution_count": 43,
   "metadata": {},
   "outputs": [
    {
     "name": "stdout",
     "output_type": "stream",
     "text": [
      "id                                            float64\n",
      "product_id                                    float64\n",
      "created_at                        datetime64[ns, UTC]\n",
      "sold_at                           datetime64[ns, UTC]\n",
      "cost_product                                  float64\n",
      "product_category                               object\n",
      "product_name                                   object\n",
      "product_brand                                  object\n",
      "product_retail_price                          float64\n",
      "product_department                             object\n",
      "product_distribution_center_id                float64\n",
      "dtype: object\n"
     ]
    }
   ],
   "source": [
    "# Pada kolom sold_at ubah tipe data menjadi datetime\n",
    "data['sold_at']=pd.to_datetime(data['sold_at'], infer_datetime_format=True)\n",
    "\n",
    "# Cek tipe data \n",
    "print (data.dtypes)"
   ]
  },
  {
   "cell_type": "code",
   "execution_count": 44,
   "metadata": {},
   "outputs": [
    {
     "name": "stdout",
     "output_type": "stream",
     "text": [
      "id                                             object\n",
      "product_id                                     object\n",
      "created_at                        datetime64[ns, UTC]\n",
      "sold_at                           datetime64[ns, UTC]\n",
      "cost_product                                  float64\n",
      "product_category                               object\n",
      "product_name                                   object\n",
      "product_brand                                  object\n",
      "product_retail_price                          float64\n",
      "product_department                             object\n",
      "product_distribution_center_id                 object\n",
      "dtype: object\n"
     ]
    }
   ],
   "source": [
    "# Instruksi looping untuk mengubah tipe data pada kolom yang berakhiran dengan 'id' menggunakan function astype()\n",
    "for feature in data.columns:\n",
    "    if (\n",
    "        feature.endswith(\"id\")\n",
    "    ):\n",
    "        \n",
    "        \n",
    "        data[feature] = data[feature].astype(\"object\")\n",
    "print (data.dtypes)"
   ]
  },
  {
   "cell_type": "code",
   "execution_count": 45,
   "metadata": {},
   "outputs": [
    {
     "data": {
      "text/plain": [
       "(Timestamp('2018-11-11 19:28:08+0000', tz='UTC'),\n",
       " Timestamp('2022-06-06 17:12:33.005180+0000', tz='UTC'))"
      ]
     },
     "execution_count": 45,
     "metadata": {},
     "output_type": "execute_result"
    }
   ],
   "source": [
    "#Get the lowest and highest dates in the dataset.\n",
    "data['created_at'].min() , data['created_at'].max()"
   ]
  },
  {
   "cell_type": "code",
   "execution_count": 46,
   "metadata": {},
   "outputs": [
    {
     "data": {
      "text/plain": [
       "(Timestamp('2019-01-05 05:39:08+0000', tz='UTC'),\n",
       " Timestamp('2022-12-12 02:20:10+0000', tz='UTC'))"
      ]
     },
     "execution_count": 46,
     "metadata": {},
     "output_type": "execute_result"
    }
   ],
   "source": [
    "#Get the lowest and highest dates in the dataset.\n",
    "data['sold_at'].min() , data['sold_at'].max()"
   ]
  },
  {
   "cell_type": "code",
   "execution_count": 47,
   "metadata": {},
   "outputs": [],
   "source": [
    "#Mengurutkan data date\n",
    "data = data[(data['created_at']>='2018-11-11 19:28:08+0000') & (data['created_at']<='2022-06-06 17:12:33.005180+0000')].sort_values('created_at', ascending=True)"
   ]
  },
  {
   "cell_type": "code",
   "execution_count": 48,
   "metadata": {},
   "outputs": [
    {
     "name": "stderr",
     "output_type": "stream",
     "text": [
      "C:\\Users\\62856\\anaconda3\\lib\\site-packages\\seaborn\\distributions.py:2619: FutureWarning: `distplot` is a deprecated function and will be removed in a future version. Please adapt your code to use either `displot` (a figure-level function with similar flexibility) or `histplot` (an axes-level function for histograms).\n",
      "  warnings.warn(msg, FutureWarning)\n"
     ]
    },
    {
     "data": {
      "image/png": "[encoded data removed]",
      "text/plain": [
       "<Figure size 288x144 with 1 Axes>"
      ]
     },
     "metadata": {
      "needs_background": "light"
     },
     "output_type": "display_data"
    },
    {
     "data": {
      "text/plain": [
       "<Figure size 288x144 with 0 Axes>"
      ]
     },
     "metadata": {},
     "output_type": "display_data"
    }
   ],
   "source": [
    "#Lets check the ditribution of the target variable (cost_product)\n",
    "from matplotlib import rcParams\n",
    "# figure size in inches\n",
    "rcParams['figure.figsize'] = 4,2\n",
    "\n",
    "sb.distplot(data['cost_product'], fit=norm)\n",
    "\n",
    "#Get the QQ-plot\n",
    "fig = plt.figure()\n",
    "plt.show()"
   ]
  },
  {
   "cell_type": "markdown",
   "metadata": {},
   "source": [
    "#### Univariate Analysis - product name, product brand, Product Category.\n"
   ]
  },
  {
   "cell_type": "code",
   "execution_count": 49,
   "metadata": {},
   "outputs": [
    {
     "data": {
      "text/plain": [
       "Intimates                        29055\n",
       "Swim                             25833\n",
       "Jeans                            25436\n",
       "Fashion Hoodies & Sweatshirts    25259\n",
       "Shorts                           24476\n",
       "Tops & Tees                      23665\n",
       "Active                           21361\n",
       "Accessories                      21304\n",
       "Sweaters                         20588\n",
       "Sleep & Lounge                   19552\n",
       "Outerwear & Coats                18558\n",
       "Underwear                        17419\n",
       "Pants                            15739\n",
       "Socks                            13939\n",
       "Dresses                          10381\n",
       "Plus                              9117\n",
       "Suits & Sport Coats               8817\n",
       "Socks & Hosiery                   8282\n",
       "Pants & Capris                    7370\n",
       "Leggings                          7176\n",
       "Blazers & Jackets                 6555\n",
       "Maternity                         6345\n",
       "Skirts                            4282\n",
       "Suits                             2689\n",
       "Jumpsuits & Rompers               2225\n",
       "Clothing Sets                      440\n",
       "all                                  1\n",
       "Name: product_category, dtype: int64"
      ]
     },
     "execution_count": 49,
     "metadata": {},
     "output_type": "execute_result"
    }
   ],
   "source": [
    "#Mengurutkan data pada variabel product category dari kategori produk yang banyak digemari \n",
    "data['product_category'].value_counts().sort_values(ascending = False)"
   ]
  },
  {
   "cell_type": "code",
   "execution_count": 50,
   "metadata": {},
   "outputs": [
    {
     "data": {
      "text/plain": [
       "Allegra K       16392\n",
       "Calvin Klein     8607\n",
       "Carhartt         6819\n",
       "Hanes            5227\n",
       "Volcom           5164\n",
       "                ...  \n",
       "NEVE                4\n",
       "Wayfayrer           3\n",
       "Empress Silk        2\n",
       "Boob                2\n",
       "funzee              2\n",
       "Name: product_brand, Length: 2019, dtype: int64"
      ]
     },
     "execution_count": 50,
     "metadata": {},
     "output_type": "execute_result"
    }
   ],
   "source": [
    "#Mencari tahu brand product yang digemari\n",
    "data['product_brand'].value_counts().sort_values(ascending = False)"
   ]
  },
  {
   "cell_type": "code",
   "execution_count": 51,
   "metadata": {},
   "outputs": [
    {
     "data": {
      "text/plain": [
       "Wrangler Men's Premium Performance Cowboy Cut Jean                               147\n",
       "Wrangler Men's Rugged Wear Classic Fit Jean                                       98\n",
       "Thorlo Unisex Experia Running Sock                                                95\n",
       "HUGO BOSS Men's Long Pant                                                         91\n",
       "Puma Men's Socks                                                                  91\n",
       "                                                                                ... \n",
       "Cosabella Women's Soire Lr Hotpant                                                 2\n",
       "Ilusion Women's Sexy Low-rise Leopard Print Lacy Bikini Panty BAROQ FLOWERS L      2\n",
       "Le Suit Safari Nights Skirt Suit                                                   2\n",
       "adidas Women's Zip Pindot Hoody                                                    2\n",
       "Lamaze Maternity Women's Seamless V-Neck Cami-Thin Straps                          2\n",
       "Name: product_name, Length: 20940, dtype: int64"
      ]
     },
     "execution_count": 51,
     "metadata": {},
     "output_type": "execute_result"
    }
   ],
   "source": [
    "#mencari tahu nama product yang paling banyak terjual\n",
    "data['product_name'].value_counts().sort_values(ascending = False)"
   ]
  },
  {
   "cell_type": "code",
   "execution_count": 52,
   "metadata": {},
   "outputs": [
    {
     "name": "stdout",
     "output_type": "stream",
     "text": [
      "27\n"
     ]
    },
    {
     "name": "stderr",
     "output_type": "stream",
     "text": [
      "C:\\Users\\62856\\anaconda3\\lib\\site-packages\\seaborn\\_decorators.py:36: FutureWarning: Pass the following variable as a keyword arg: x. From version 0.12, the only valid positional argument will be `data`, and passing other arguments without an explicit keyword will result in an error or misinterpretation.\n",
      "  warnings.warn(\n"
     ]
    },
    {
     "data": {
      "text/plain": [
       "<AxesSubplot:xlabel='product_category', ylabel='count'>"
      ]
     },
     "execution_count": 52,
     "metadata": {},
     "output_type": "execute_result"
    },
    {
     "data": {
      "image/png": "[encoded data removed]",
      "text/plain": [
       "<Figure size 3600x1008 with 1 Axes>"
      ]
     },
     "metadata": {
      "needs_background": "light"
     },
     "output_type": "display_data"
    }
   ],
   "source": [
    "#Mneampilkan visualisasi kelas berdasarkan Jumlah produk terjual pada Product Category.\n",
    "\n",
    "print (len(data['product_category'].value_counts()))\n",
    "\n",
    "rcParams['figure.figsize'] = 50,14\n",
    "sb.countplot(data['product_category'].sort_values(ascending = True))\n"
   ]
  },
  {
   "cell_type": "markdown",
   "metadata": {},
   "source": [
    "#### Bivariate Analysis - id distribution center dan product_retail_price"
   ]
  },
  {
   "cell_type": "code",
   "execution_count": 53,
   "metadata": {},
   "outputs": [
    {
     "name": "stderr",
     "output_type": "stream",
     "text": [
      "C:\\Users\\62856\\anaconda3\\lib\\site-packages\\seaborn\\_decorators.py:36: FutureWarning: Pass the following variables as keyword args: x, y. From version 0.12, the only valid positional argument will be `data`, and passing other arguments without an explicit keyword will result in an error or misinterpretation.\n",
      "  warnings.warn(\n",
      "C:\\Users\\62856\\anaconda3\\lib\\site-packages\\seaborn\\_decorators.py:36: FutureWarning: Pass the following variables as keyword args: x, y. From version 0.12, the only valid positional argument will be `data`, and passing other arguments without an explicit keyword will result in an error or misinterpretation.\n",
      "  warnings.warn(\n"
     ]
    },
    {
     "data": {
      "image/png": "[encoded data removed]",
      "text/plain": [
       "<Figure size 1152x288 with 2 Axes>"
      ]
     },
     "metadata": {
      "needs_background": "light"
     },
     "output_type": "display_data"
    }
   ],
   "source": [
    "#Membagi kelas product retail price berdasarkan product_distribution_center_id\n",
    "\n",
    "#Checking with Boxplots\n",
    "from matplotlib import rcParams\n",
    "# figure size in inches\n",
    "rcParams['figure.figsize'] = 16,4\n",
    "f, axes = plt.subplots(1, 2)\n",
    "#Regular Data\n",
    "fig3 = sb.boxplot( data['product_distribution_center_id'],data['product_retail_price'], ax = axes[0])\n",
    "#Data with Log Transformation\n",
    "fig4 = sb.boxplot( data['product_distribution_center_id'], np.log1p(data['product_retail_price']),ax = axes[1])\n",
    "\n",
    "del fig3, fig4"
   ]
  },
  {
   "cell_type": "code",
   "execution_count": 54,
   "metadata": {},
   "outputs": [
    {
     "name": "stderr",
     "output_type": "stream",
     "text": [
      "C:\\Users\\62856\\anaconda3\\lib\\site-packages\\seaborn\\_decorators.py:36: FutureWarning: Pass the following variables as keyword args: x, y. From version 0.12, the only valid positional argument will be `data`, and passing other arguments without an explicit keyword will result in an error or misinterpretation.\n",
      "  warnings.warn(\n"
     ]
    },
    {
     "data": {
      "image/png": "[encoded data removed]",
      "text/plain": [
       "<Figure size 3600x1440 with 1 Axes>"
      ]
     },
     "metadata": {
      "needs_background": "light"
     },
     "output_type": "display_data"
    }
   ],
   "source": [
    "#MENGKLASIFIKASIKAN product_category berdasarkan harga asli\n",
    "rcParams['figure.figsize'] = 50,20\n",
    "#Taking subset of data temporarily for in memory compute.\n",
    "df_temp = data.sample(n=20000).reset_index()\n",
    "fig5 = sb.boxplot( df_temp['product_category'].sort_values(),np.log1p(df_temp['cost_product']))\n",
    "del df_temp, fig5"
   ]
  },
  {
   "cell_type": "markdown",
   "metadata": {},
   "source": [
    "# MODELLING DATA"
   ]
  },
  {
   "cell_type": "markdown",
   "metadata": {},
   "source": [
    "## Choosing the Best Model\n",
    "### Splitting the Training Data\n",
    "We will use part of our training data (25% in this case) to test the accuracy of our different models."
   ]
  },
  {
   "cell_type": "code",
   "execution_count": 55,
   "metadata": {},
   "outputs": [],
   "source": [
    "#menentukan variabel independen dan dependen \n",
    "X = data[['cost_product', 'product_retail_price','product_id']]\n",
    "y = data['product_department']\n",
    "\n",
    "\n",
    "       "
   ]
  },
  {
   "cell_type": "code",
   "execution_count": 56,
   "metadata": {},
   "outputs": [
    {
     "data": {
      "text/plain": [
       "Index(['id', 'product_id', 'created_at', 'sold_at', 'cost_product',\n",
       "       'product_category', 'product_name', 'product_brand',\n",
       "       'product_retail_price', 'product_department',\n",
       "       'product_distribution_center_id'],\n",
       "      dtype='object')"
      ]
     },
     "execution_count": 56,
     "metadata": {},
     "output_type": "execute_result"
    }
   ],
   "source": [
    "#melihat daftar kolom\n",
    "data.columns"
   ]
  },
  {
   "cell_type": "code",
   "execution_count": 57,
   "metadata": {},
   "outputs": [],
   "source": [
    "#membagi pelatihan dan pengujian\n",
    "X_train, X_test, y_train, y_test = train_test_split(X, y, test_size = 0.25, random_state = 0)"
   ]
  },
  {
   "cell_type": "markdown",
   "metadata": {},
   "source": [
    "### Testing Different Models\n",
    "Saya masih penasaran dengan hasil testing dan masih ingin mencoba dengan model lainnya. berikut adalah daftarnya:\n",
    "\n",
    "1. Gaussian Naive Bayes\n",
    "2. Logistic Regression\n",
    "3. Support Vector Machines\n",
    "4. Perceptron\n",
    "5. Stochastic Gradient Descent\n",
    "6. Linear SVC"
   ]
  },
  {
   "cell_type": "markdown",
   "metadata": {},
   "source": [
    "####  Gaussian Naive Bayes"
   ]
  },
  {
   "cell_type": "code",
   "execution_count": 58,
   "metadata": {},
   "outputs": [
    {
     "name": "stdout",
     "output_type": "stream",
     "text": [
      "99.45\n"
     ]
    }
   ],
   "source": [
    "# Gaussian Naive Bayes\n",
    "from sklearn.naive_bayes import GaussianNB\n",
    "from sklearn.metrics import accuracy_score\n",
    "\n",
    "gaussian = GaussianNB()\n",
    "gaussian.fit(X_train, y_train)\n",
    "y_pred = gaussian.predict(X_test)\n",
    "acc_gaussian = round(accuracy_score(y_pred, y_test) * 100, 2)\n",
    "print(acc_gaussian)"
   ]
  },
  {
   "cell_type": "code",
   "execution_count": 59,
   "metadata": {},
   "outputs": [
    {
     "name": "stdout",
     "output_type": "stream",
     "text": [
      "              precision    recall  f1-score   support\n",
      "\n",
      "         Men       0.99      1.00      0.99     48009\n",
      "       Women       1.00      0.99      0.99     45957\n",
      "\n",
      "    accuracy                           0.99     93966\n",
      "   macro avg       0.99      0.99      0.99     93966\n",
      "weighted avg       0.99      0.99      0.99     93966\n",
      "\n"
     ]
    }
   ],
   "source": [
    "print(classification_report(y_test,y_pred))"
   ]
  },
  {
   "cell_type": "markdown",
   "metadata": {},
   "source": [
    "####  Support Vector Machines"
   ]
  },
  {
   "cell_type": "code",
   "execution_count": 60,
   "metadata": {},
   "outputs": [
    {
     "name": "stdout",
     "output_type": "stream",
     "text": [
      "99.95\n"
     ]
    }
   ],
   "source": [
    "# Support Vector Machines\n",
    "from sklearn.svm import SVC\n",
    "\n",
    "svc = SVC()\n",
    "svc.fit(X_train, y_train)\n",
    "y_pred = svc.predict(X_test)\n",
    "acc_svc = round(accuracy_score(y_pred, y_test) * 100, 2)\n",
    "print(acc_svc)"
   ]
  },
  {
   "cell_type": "code",
   "execution_count": 61,
   "metadata": {},
   "outputs": [
    {
     "name": "stdout",
     "output_type": "stream",
     "text": [
      "              precision    recall  f1-score   support\n",
      "\n",
      "         Men       1.00      1.00      1.00     48009\n",
      "       Women       1.00      1.00      1.00     45957\n",
      "\n",
      "    accuracy                           1.00     93966\n",
      "   macro avg       1.00      1.00      1.00     93966\n",
      "weighted avg       1.00      1.00      1.00     93966\n",
      "\n"
     ]
    }
   ],
   "source": [
    "print(classification_report(y_test,y_pred))"
   ]
  },
  {
   "cell_type": "markdown",
   "metadata": {},
   "source": [
    "#### Linear SVC"
   ]
  },
  {
   "cell_type": "code",
   "execution_count": 62,
   "metadata": {},
   "outputs": [
    {
     "name": "stderr",
     "output_type": "stream",
     "text": [
      "C:\\Users\\62856\\anaconda3\\lib\\site-packages\\sklearn\\svm\\_base.py:985: ConvergenceWarning: Liblinear failed to converge, increase the number of iterations.\n",
      "  warnings.warn(\"Liblinear failed to converge, increase \"\n"
     ]
    },
    {
     "name": "stdout",
     "output_type": "stream",
     "text": [
      "69.58\n"
     ]
    }
   ],
   "source": [
    "# Linear SVC\n",
    "from sklearn.svm import LinearSVC\n",
    "\n",
    "linear_svc = LinearSVC()\n",
    "linear_svc.fit(X_train, y_train)\n",
    "y_pred = linear_svc.predict(X_test)\n",
    "acc_linear_svc = round(accuracy_score(y_pred, y_test) * 100, 2)\n",
    "print(acc_linear_svc)"
   ]
  },
  {
   "cell_type": "code",
   "execution_count": 63,
   "metadata": {},
   "outputs": [
    {
     "name": "stdout",
     "output_type": "stream",
     "text": [
      "              precision    recall  f1-score   support\n",
      "\n",
      "         Men       0.63      1.00      0.77     48009\n",
      "       Women       1.00      0.38      0.55     45957\n",
      "\n",
      "    accuracy                           0.70     93966\n",
      "   macro avg       0.81      0.69      0.66     93966\n",
      "weighted avg       0.81      0.70      0.66     93966\n",
      "\n"
     ]
    }
   ],
   "source": [
    "print(classification_report(y_test,y_pred))"
   ]
  },
  {
   "cell_type": "markdown",
   "metadata": {},
   "source": [
    "#### Perceptron"
   ]
  },
  {
   "cell_type": "code",
   "execution_count": 64,
   "metadata": {},
   "outputs": [
    {
     "name": "stdout",
     "output_type": "stream",
     "text": [
      "70.21\n"
     ]
    }
   ],
   "source": [
    "# Perceptron\n",
    "from sklearn.linear_model import Perceptron\n",
    "\n",
    "perceptron = Perceptron()\n",
    "perceptron.fit(X_train, y_train)\n",
    "y_pred = perceptron.predict(X_test)\n",
    "acc_perceptron = round(accuracy_score(y_pred, y_test) * 100, 2)\n",
    "print(acc_perceptron)"
   ]
  },
  {
   "cell_type": "code",
   "execution_count": 65,
   "metadata": {},
   "outputs": [
    {
     "name": "stdout",
     "output_type": "stream",
     "text": [
      "              precision    recall  f1-score   support\n",
      "\n",
      "         Men       0.65      0.89      0.75     48009\n",
      "       Women       0.82      0.50      0.62     45957\n",
      "\n",
      "    accuracy                           0.70     93966\n",
      "   macro avg       0.74      0.70      0.69     93966\n",
      "weighted avg       0.73      0.70      0.69     93966\n",
      "\n"
     ]
    }
   ],
   "source": [
    "print(classification_report(y_test,y_pred))"
   ]
  },
  {
   "cell_type": "markdown",
   "metadata": {},
   "source": [
    "#### Stochastic Gradient Descent"
   ]
  },
  {
   "cell_type": "code",
   "execution_count": 66,
   "metadata": {},
   "outputs": [
    {
     "name": "stdout",
     "output_type": "stream",
     "text": [
      "96.4\n"
     ]
    }
   ],
   "source": [
    "# Stochastic Gradient Descent\n",
    "from sklearn.linear_model import SGDClassifier\n",
    "\n",
    "sgd = SGDClassifier()\n",
    "sgd.fit(X_train, y_train)\n",
    "y_pred = sgd.predict(X_test)\n",
    "acc_sgd = round(accuracy_score(y_pred, y_test) * 100, 2)\n",
    "print(acc_sgd)"
   ]
  },
  {
   "cell_type": "code",
   "execution_count": 67,
   "metadata": {},
   "outputs": [
    {
     "name": "stdout",
     "output_type": "stream",
     "text": [
      "              precision    recall  f1-score   support\n",
      "\n",
      "         Men       0.93      1.00      0.97     48009\n",
      "       Women       1.00      0.93      0.96     45957\n",
      "\n",
      "    accuracy                           0.96     93966\n",
      "   macro avg       0.97      0.96      0.96     93966\n",
      "weighted avg       0.97      0.96      0.96     93966\n",
      "\n"
     ]
    }
   ],
   "source": [
    "print(classification_report(y_test,y_pred))"
   ]
  },
  {
   "cell_type": "markdown",
   "metadata": {},
   "source": [
    "#### Logistic Regression"
   ]
  },
  {
   "cell_type": "code",
   "execution_count": 68,
   "metadata": {},
   "outputs": [
    {
     "name": "stderr",
     "output_type": "stream",
     "text": [
      "C:\\Users\\62856\\anaconda3\\lib\\site-packages\\sklearn\\linear_model\\_logistic.py:763: ConvergenceWarning: lbfgs failed to converge (status=1):\n",
      "STOP: TOTAL NO. of ITERATIONS REACHED LIMIT.\n",
      "\n",
      "Increase the number of iterations (max_iter) or scale the data as shown in:\n",
      "    https://scikit-learn.org/stable/modules/preprocessing.html\n",
      "Please also refer to the documentation for alternative solver options:\n",
      "    https://scikit-learn.org/stable/modules/linear_model.html#logistic-regression\n",
      "  n_iter_i = _check_optimize_result(\n"
     ]
    },
    {
     "name": "stdout",
     "output_type": "stream",
     "text": [
      "97.85\n"
     ]
    }
   ],
   "source": [
    "# Logistic Regression\n",
    "from sklearn.linear_model import LogisticRegression\n",
    "\n",
    "logreg = LogisticRegression()\n",
    "logreg.fit(X_train, y_train)\n",
    "y_pred = logreg.predict(X_test)\n",
    "acc_logreg = round(accuracy_score(y_pred, y_test) * 100, 2)\n",
    "print(acc_logreg)"
   ]
  },
  {
   "cell_type": "code",
   "execution_count": 69,
   "metadata": {},
   "outputs": [
    {
     "name": "stdout",
     "output_type": "stream",
     "text": [
      "              precision    recall  f1-score   support\n",
      "\n",
      "         Men       0.98      0.98      0.98     48009\n",
      "       Women       0.98      0.97      0.98     45957\n",
      "\n",
      "    accuracy                           0.98     93966\n",
      "   macro avg       0.98      0.98      0.98     93966\n",
      "weighted avg       0.98      0.98      0.98     93966\n",
      "\n"
     ]
    }
   ],
   "source": [
    "print(classification_report(y_test,y_pred))"
   ]
  },
  {
   "cell_type": "markdown",
   "metadata": {},
   "source": [
    "#### Hasil score seluruh pemodelan"
   ]
  },
  {
   "cell_type": "code",
   "execution_count": 71,
   "metadata": {},
   "outputs": [
    {
     "data": {
      "text/html": [
       "<div>\n",
       "<style scoped>\n",
       "    .dataframe tbody tr th:only-of-type {\n",
       "        vertical-align: middle;\n",
       "    }\n",
       "\n",
       "    .dataframe tbody tr th {\n",
       "        vertical-align: top;\n",
       "    }\n",
       "\n",
       "    .dataframe thead th {\n",
       "        text-align: right;\n",
       "    }\n",
       "</style>\n",
       "<table border=\"1\" class=\"dataframe\">\n",
       "  <thead>\n",
       "    <tr style=\"text-align: right;\">\n",
       "      <th></th>\n",
       "      <th>Model</th>\n",
       "      <th>Score</th>\n",
       "    </tr>\n",
       "  </thead>\n",
       "  <tbody>\n",
       "    <tr>\n",
       "      <th>0</th>\n",
       "      <td>Support Vector Machines</td>\n",
       "      <td>99.95</td>\n",
       "    </tr>\n",
       "    <tr>\n",
       "      <th>2</th>\n",
       "      <td>Naive Bayes</td>\n",
       "      <td>99.45</td>\n",
       "    </tr>\n",
       "    <tr>\n",
       "      <th>1</th>\n",
       "      <td>Logistic Regression</td>\n",
       "      <td>97.85</td>\n",
       "    </tr>\n",
       "    <tr>\n",
       "      <th>5</th>\n",
       "      <td>Stochastic Gradient Descent</td>\n",
       "      <td>96.40</td>\n",
       "    </tr>\n",
       "    <tr>\n",
       "      <th>3</th>\n",
       "      <td>Perceptron</td>\n",
       "      <td>70.21</td>\n",
       "    </tr>\n",
       "    <tr>\n",
       "      <th>4</th>\n",
       "      <td>Linear SVC</td>\n",
       "      <td>69.58</td>\n",
       "    </tr>\n",
       "  </tbody>\n",
       "</table>\n",
       "</div>"
      ],
      "text/plain": [
       "                         Model  Score\n",
       "0      Support Vector Machines  99.95\n",
       "2                  Naive Bayes  99.45\n",
       "1          Logistic Regression  97.85\n",
       "5  Stochastic Gradient Descent  96.40\n",
       "3                   Perceptron  70.21\n",
       "4                   Linear SVC  69.58"
      ]
     },
     "execution_count": 71,
     "metadata": {},
     "output_type": "execute_result"
    }
   ],
   "source": [
    "models = pd.DataFrame({\n",
    "    'Model': ['Support Vector Machines', 'Logistic Regression', 'Naive Bayes', 'Perceptron', 'Linear SVC', \n",
    "               'Stochastic Gradient Descent'],\n",
    "    'Score': [acc_svc, acc_logreg, \n",
    "              acc_gaussian, acc_perceptron,acc_linear_svc,\n",
    "              acc_sgd ]})\n",
    "models.sort_values(by='Score', ascending=False)"
   ]
  },
  {
   "cell_type": "code",
   "execution_count": 72,
   "metadata": {},
   "outputs": [
    {
     "data": {
      "text/plain": [
       "355525      Men\n",
       "188021    Women\n",
       "60276     Women\n",
       "210772    Women\n",
       "93949       Men\n",
       "          ...  \n",
       "193079      Men\n",
       "330559    Women\n",
       "203214      Men\n",
       "198679    Women\n",
       "125226    Women\n",
       "Name: product_department, Length: 93966, dtype: object"
      ]
     },
     "execution_count": 72,
     "metadata": {},
     "output_type": "execute_result"
    }
   ],
   "source": [
    "y_test #Men = class 1 Woman class 2"
   ]
  },
  {
   "cell_type": "code",
   "execution_count": 73,
   "metadata": {},
   "outputs": [
    {
     "data": {
      "text/plain": [
       "array(['Men', 'Women', 'Women', ..., 'Men', 'Women', 'Women'],\n",
       "      dtype=object)"
      ]
     },
     "execution_count": 73,
     "metadata": {},
     "output_type": "execute_result"
    }
   ],
   "source": [
    "y_pred"
   ]
  },
  {
   "cell_type": "code",
   "execution_count": 74,
   "metadata": {},
   "outputs": [
    {
     "data": {
      "text/html": [
       "<div>\n",
       "<style scoped>\n",
       "    .dataframe tbody tr th:only-of-type {\n",
       "        vertical-align: middle;\n",
       "    }\n",
       "\n",
       "    .dataframe tbody tr th {\n",
       "        vertical-align: top;\n",
       "    }\n",
       "\n",
       "    .dataframe thead th {\n",
       "        text-align: right;\n",
       "    }\n",
       "</style>\n",
       "<table border=\"1\" class=\"dataframe\">\n",
       "  <thead>\n",
       "    <tr style=\"text-align: right;\">\n",
       "      <th></th>\n",
       "      <th>cost_product</th>\n",
       "      <th>product_retail_price</th>\n",
       "      <th>product_id</th>\n",
       "    </tr>\n",
       "  </thead>\n",
       "  <tbody>\n",
       "    <tr>\n",
       "      <th>372352</th>\n",
       "      <td>44.771998</td>\n",
       "      <td>79.949997</td>\n",
       "      <td>17357.0</td>\n",
       "    </tr>\n",
       "    <tr>\n",
       "      <th>139534</th>\n",
       "      <td>17.762220</td>\n",
       "      <td>46.619999</td>\n",
       "      <td>18164.0</td>\n",
       "    </tr>\n",
       "    <tr>\n",
       "      <th>133854</th>\n",
       "      <td>4.530330</td>\n",
       "      <td>7.990000</td>\n",
       "      <td>25062.0</td>\n",
       "    </tr>\n",
       "    <tr>\n",
       "      <th>274235</th>\n",
       "      <td>12.192000</td>\n",
       "      <td>32.000000</td>\n",
       "      <td>27101.0</td>\n",
       "    </tr>\n",
       "    <tr>\n",
       "      <th>264445</th>\n",
       "      <td>49.786172</td>\n",
       "      <td>129.990005</td>\n",
       "      <td>20334.0</td>\n",
       "    </tr>\n",
       "    <tr>\n",
       "      <th>...</th>\n",
       "      <td>...</td>\n",
       "      <td>...</td>\n",
       "      <td>...</td>\n",
       "    </tr>\n",
       "    <tr>\n",
       "      <th>248139</th>\n",
       "      <td>30.445649</td>\n",
       "      <td>69.989998</td>\n",
       "      <td>13265.0</td>\n",
       "    </tr>\n",
       "    <tr>\n",
       "      <th>308171</th>\n",
       "      <td>10.492100</td>\n",
       "      <td>23.900000</td>\n",
       "      <td>26451.0</td>\n",
       "    </tr>\n",
       "    <tr>\n",
       "      <th>48774</th>\n",
       "      <td>6.797700</td>\n",
       "      <td>13.650000</td>\n",
       "      <td>10829.0</td>\n",
       "    </tr>\n",
       "    <tr>\n",
       "      <th>69431</th>\n",
       "      <td>54.730000</td>\n",
       "      <td>130.000000</td>\n",
       "      <td>3126.0</td>\n",
       "    </tr>\n",
       "    <tr>\n",
       "      <th>323602</th>\n",
       "      <td>7.001610</td>\n",
       "      <td>12.990000</td>\n",
       "      <td>11369.0</td>\n",
       "    </tr>\n",
       "  </tbody>\n",
       "</table>\n",
       "<p>375864 rows × 3 columns</p>\n",
       "</div>"
      ],
      "text/plain": [
       "        cost_product  product_retail_price product_id\n",
       "372352     44.771998             79.949997    17357.0\n",
       "139534     17.762220             46.619999    18164.0\n",
       "133854      4.530330              7.990000    25062.0\n",
       "274235     12.192000             32.000000    27101.0\n",
       "264445     49.786172            129.990005    20334.0\n",
       "...              ...                   ...        ...\n",
       "248139     30.445649             69.989998    13265.0\n",
       "308171     10.492100             23.900000    26451.0\n",
       "48774       6.797700             13.650000    10829.0\n",
       "69431      54.730000            130.000000     3126.0\n",
       "323602      7.001610             12.990000    11369.0\n",
       "\n",
       "[375864 rows x 3 columns]"
      ]
     },
     "execution_count": 74,
     "metadata": {},
     "output_type": "execute_result"
    }
   ],
   "source": [
    "X"
   ]
  },
  {
   "cell_type": "markdown",
   "metadata": {},
   "source": [
    "#### Confussion Matrix"
   ]
  },
  {
   "cell_type": "code",
   "execution_count": 75,
   "metadata": {
    "scrolled": false
   },
   "outputs": [
    {
     "data": {
      "text/plain": [
       "Text(0.5, 69.0, 'Predicted Class')"
      ]
     },
     "execution_count": 75,
     "metadata": {},
     "output_type": "execute_result"
    },
    {
     "data": {
      "image/png": "[encoded data removed]",
      "text/plain": [
       "<Figure size 720x720 with 2 Axes>"
      ]
     },
     "metadata": {
      "needs_background": "light"
     },
     "output_type": "display_data"
    }
   ],
   "source": [
    "#Menampilkan confussion Matrix\n",
    "from sklearn.metrics import classification_report,confusion_matrix\n",
    "fig, ax = plt.subplots(figsize=(10,10))\n",
    "sns.heatmap(confusion_matrix(y_test,y_pred),annot=True,fmt='g')\n",
    "plt.title('Confusion Matrix',color='Black',fontsize=30)\n",
    "plt.ylabel('Actucal Class',fontsize=25)\n",
    "plt.xlabel('Predicted Class',fontsize=25)"
   ]
  },
  {
   "cell_type": "markdown",
   "metadata": {},
   "source": [
    "\n",
    "\n",
    "##### Insight\n",
    "confusion matrix memberikan informasi perbandingan hasil klasifikasi yang dilakukan oleh sistem (model) dengan hasil klasifikasi sebenarnya.\n",
    "\n",
    "- 44748 data positif yang diprediksi benar. yang mana diprediksi product untuk men.\n",
    "\n",
    "- 47201 data negatif yang diprediksi benar. dari model yang dibuat memprediksi product tersebut untuk woman (class 2).\n",
    "\n",
    "- 1209 data negatif namun diprediksi sebagai data positif. product tersebut termasuk departemen woman (class 2) tetapi dari model yang telah memprediksi product departemen men (class 1).\n",
    "\n",
    "- 808 data positif namun diprediksi sebagai data negatif. contohnya termasuk pada departemen product men (class 1) tetapi dari model yang dibuat memprediksi termasuk departemen woman(class 2).\n",
    "\n",
    "\n",
    "NOTE :\n",
    "\n",
    "Men = class 1,\n",
    "Woman = class 2\n"
   ]
  },
  {
   "cell_type": "code",
   "execution_count": 76,
   "metadata": {},
   "outputs": [],
   "source": [
    "#import dataset\n",
    "data.to_csv('inventory_item_fix.csv')"
   ]
  },
  {
   "cell_type": "markdown",
   "metadata": {},
   "source": [
    "### **END**\n",
    "\n",
    "BY : NADIRA"
   ]
  },
  {
   "cell_type": "markdown",
   "metadata": {},
   "source": [
    "#### INFO\n",
    "DATA SECONDARY TIDAK PERLU DI MODELKAN DIKARENAKAN DATA TERSEBUT AKAN DIGUNAKAN PADA TOOLS LAINNYA SEPERTI TABLEAU / SQL MAKA DARI ITU SAYA HANYA MENGEKPLORASI DATA TERSEBUT,MEMBERSIHKAN DAN MENGUBAH TIPE DATANYA."
   ]
  },
  {
   "cell_type": "markdown",
   "metadata": {},
   "source": [
    "\n",
    "\n",
    "\n",
    "## **Data Secondary (Orders)**"
   ]
  },
  {
   "cell_type": "markdown",
   "metadata": {},
   "source": [
    "## **1 Libraries**"
   ]
  },
  {
   "cell_type": "code",
   "execution_count": 77,
   "metadata": {},
   "outputs": [
    {
     "data": {
      "text/html": [
       "<div>\n",
       "<style scoped>\n",
       "    .dataframe tbody tr th:only-of-type {\n",
       "        vertical-align: middle;\n",
       "    }\n",
       "\n",
       "    .dataframe tbody tr th {\n",
       "        vertical-align: top;\n",
       "    }\n",
       "\n",
       "    .dataframe thead th {\n",
       "        text-align: right;\n",
       "    }\n",
       "</style>\n",
       "<table border=\"1\" class=\"dataframe\">\n",
       "  <thead>\n",
       "    <tr style=\"text-align: right;\">\n",
       "      <th></th>\n",
       "      <th>order_id</th>\n",
       "      <th>user_id</th>\n",
       "      <th>status</th>\n",
       "      <th>gender</th>\n",
       "      <th>created_at</th>\n",
       "      <th>returned_at</th>\n",
       "      <th>shipped_at</th>\n",
       "      <th>delivered_at</th>\n",
       "      <th>num_of_item</th>\n",
       "    </tr>\n",
       "  </thead>\n",
       "  <tbody>\n",
       "    <tr>\n",
       "      <th>0</th>\n",
       "      <td>11</td>\n",
       "      <td>9</td>\n",
       "      <td>Shipped</td>\n",
       "      <td>F</td>\n",
       "      <td>2021-12-11 05:34:00+00:00</td>\n",
       "      <td>NaN</td>\n",
       "      <td>2021-12-12 10:01:00+00:00</td>\n",
       "      <td>NaN</td>\n",
       "      <td>3</td>\n",
       "    </tr>\n",
       "    <tr>\n",
       "      <th>1</th>\n",
       "      <td>12</td>\n",
       "      <td>9</td>\n",
       "      <td>Shipped</td>\n",
       "      <td>F</td>\n",
       "      <td>2022-01-18 05:34:00+00:00</td>\n",
       "      <td>NaN</td>\n",
       "      <td>2022-01-19 20:20:00+00:00</td>\n",
       "      <td>NaN</td>\n",
       "      <td>1</td>\n",
       "    </tr>\n",
       "    <tr>\n",
       "      <th>2</th>\n",
       "      <td>22</td>\n",
       "      <td>14</td>\n",
       "      <td>Shipped</td>\n",
       "      <td>F</td>\n",
       "      <td>2020-08-18 11:51:00+00:00</td>\n",
       "      <td>NaN</td>\n",
       "      <td>2020-08-20 16:45:00+00:00</td>\n",
       "      <td>NaN</td>\n",
       "      <td>1</td>\n",
       "    </tr>\n",
       "    <tr>\n",
       "      <th>3</th>\n",
       "      <td>25</td>\n",
       "      <td>16</td>\n",
       "      <td>Shipped</td>\n",
       "      <td>F</td>\n",
       "      <td>2020-12-16 08:35:00+00:00</td>\n",
       "      <td>NaN</td>\n",
       "      <td>2020-12-17 21:43:00+00:00</td>\n",
       "      <td>NaN</td>\n",
       "      <td>2</td>\n",
       "    </tr>\n",
       "    <tr>\n",
       "      <th>4</th>\n",
       "      <td>26</td>\n",
       "      <td>16</td>\n",
       "      <td>Shipped</td>\n",
       "      <td>F</td>\n",
       "      <td>2020-09-07 08:35:00+00:00</td>\n",
       "      <td>NaN</td>\n",
       "      <td>2020-09-10 00:15:00+00:00</td>\n",
       "      <td>NaN</td>\n",
       "      <td>1</td>\n",
       "    </tr>\n",
       "  </tbody>\n",
       "</table>\n",
       "</div>"
      ],
      "text/plain": [
       "   order_id  user_id   status gender                 created_at returned_at  \\\n",
       "0        11        9  Shipped      F  2021-12-11 05:34:00+00:00         NaN   \n",
       "1        12        9  Shipped      F  2022-01-18 05:34:00+00:00         NaN   \n",
       "2        22       14  Shipped      F  2020-08-18 11:51:00+00:00         NaN   \n",
       "3        25       16  Shipped      F  2020-12-16 08:35:00+00:00         NaN   \n",
       "4        26       16  Shipped      F  2020-09-07 08:35:00+00:00         NaN   \n",
       "\n",
       "                  shipped_at delivered_at  num_of_item  \n",
       "0  2021-12-12 10:01:00+00:00          NaN            3  \n",
       "1  2022-01-19 20:20:00+00:00          NaN            1  \n",
       "2  2020-08-20 16:45:00+00:00          NaN            1  \n",
       "3  2020-12-17 21:43:00+00:00          NaN            2  \n",
       "4  2020-09-10 00:15:00+00:00          NaN            1  "
      ]
     },
     "execution_count": 77,
     "metadata": {},
     "output_type": "execute_result"
    }
   ],
   "source": [
    "#IMPORT DATSET\n",
    "data2 = pd.read_csv('orders.csv')\n",
    "data2.head() # Mengimpor File dan memunculkan data head."
   ]
  },
  {
   "cell_type": "code",
   "execution_count": 78,
   "metadata": {},
   "outputs": [
    {
     "data": {
      "text/html": [
       "<div>\n",
       "<style scoped>\n",
       "    .dataframe tbody tr th:only-of-type {\n",
       "        vertical-align: middle;\n",
       "    }\n",
       "\n",
       "    .dataframe tbody tr th {\n",
       "        vertical-align: top;\n",
       "    }\n",
       "\n",
       "    .dataframe thead th {\n",
       "        text-align: right;\n",
       "    }\n",
       "</style>\n",
       "<table border=\"1\" class=\"dataframe\">\n",
       "  <thead>\n",
       "    <tr style=\"text-align: right;\">\n",
       "      <th></th>\n",
       "      <th>order_id</th>\n",
       "      <th>user_id</th>\n",
       "      <th>num_of_item</th>\n",
       "    </tr>\n",
       "  </thead>\n",
       "  <tbody>\n",
       "    <tr>\n",
       "      <th>count</th>\n",
       "      <td>124512.000000</td>\n",
       "      <td>124512.000000</td>\n",
       "      <td>124512.000000</td>\n",
       "    </tr>\n",
       "    <tr>\n",
       "      <th>mean</th>\n",
       "      <td>62256.500000</td>\n",
       "      <td>50050.013613</td>\n",
       "      <td>1.449724</td>\n",
       "    </tr>\n",
       "    <tr>\n",
       "      <th>std</th>\n",
       "      <td>35943.662696</td>\n",
       "      <td>28800.914580</td>\n",
       "      <td>0.802567</td>\n",
       "    </tr>\n",
       "    <tr>\n",
       "      <th>min</th>\n",
       "      <td>1.000000</td>\n",
       "      <td>1.000000</td>\n",
       "      <td>1.000000</td>\n",
       "    </tr>\n",
       "    <tr>\n",
       "      <th>25%</th>\n",
       "      <td>31128.750000</td>\n",
       "      <td>25151.000000</td>\n",
       "      <td>1.000000</td>\n",
       "    </tr>\n",
       "    <tr>\n",
       "      <th>50%</th>\n",
       "      <td>62256.500000</td>\n",
       "      <td>50071.500000</td>\n",
       "      <td>1.000000</td>\n",
       "    </tr>\n",
       "    <tr>\n",
       "      <th>75%</th>\n",
       "      <td>93384.250000</td>\n",
       "      <td>74949.250000</td>\n",
       "      <td>2.000000</td>\n",
       "    </tr>\n",
       "    <tr>\n",
       "      <th>max</th>\n",
       "      <td>124512.000000</td>\n",
       "      <td>100000.000000</td>\n",
       "      <td>4.000000</td>\n",
       "    </tr>\n",
       "  </tbody>\n",
       "</table>\n",
       "</div>"
      ],
      "text/plain": [
       "            order_id        user_id    num_of_item\n",
       "count  124512.000000  124512.000000  124512.000000\n",
       "mean    62256.500000   50050.013613       1.449724\n",
       "std     35943.662696   28800.914580       0.802567\n",
       "min         1.000000       1.000000       1.000000\n",
       "25%     31128.750000   25151.000000       1.000000\n",
       "50%     62256.500000   50071.500000       1.000000\n",
       "75%     93384.250000   74949.250000       2.000000\n",
       "max    124512.000000  100000.000000       4.000000"
      ]
     },
     "execution_count": 78,
     "metadata": {},
     "output_type": "execute_result"
    }
   ],
   "source": [
    "#MELIHAT DESKRIPSI DATA\n",
    "data2.describe()"
   ]
  },
  {
   "cell_type": "markdown",
   "metadata": {},
   "source": [
    "INSIGHT\n",
    "\n",
    "Data tersebut terdapat kolom order id yg sudah ada dalam dataset primary. maka dari itu saya akan menghapus kolom yang tidak dibutuhkan.\n"
   ]
  },
  {
   "cell_type": "code",
   "execution_count": 79,
   "metadata": {},
   "outputs": [
    {
     "data": {
      "text/html": [
       "<div>\n",
       "<style scoped>\n",
       "    .dataframe tbody tr th:only-of-type {\n",
       "        vertical-align: middle;\n",
       "    }\n",
       "\n",
       "    .dataframe tbody tr th {\n",
       "        vertical-align: top;\n",
       "    }\n",
       "\n",
       "    .dataframe thead th {\n",
       "        text-align: right;\n",
       "    }\n",
       "</style>\n",
       "<table border=\"1\" class=\"dataframe\">\n",
       "  <thead>\n",
       "    <tr style=\"text-align: right;\">\n",
       "      <th></th>\n",
       "      <th>order_id</th>\n",
       "      <th>user_id</th>\n",
       "      <th>status</th>\n",
       "      <th>gender</th>\n",
       "      <th>created_at</th>\n",
       "      <th>returned_at</th>\n",
       "      <th>shipped_at</th>\n",
       "      <th>delivered_at</th>\n",
       "      <th>num_of_item</th>\n",
       "    </tr>\n",
       "  </thead>\n",
       "  <tbody>\n",
       "    <tr>\n",
       "      <th>124507</th>\n",
       "      <td>124467</td>\n",
       "      <td>99958</td>\n",
       "      <td>Processing</td>\n",
       "      <td>M</td>\n",
       "      <td>2022-05-14 09:32:00+00:00</td>\n",
       "      <td>NaN</td>\n",
       "      <td>NaN</td>\n",
       "      <td>NaN</td>\n",
       "      <td>1</td>\n",
       "    </tr>\n",
       "    <tr>\n",
       "      <th>124508</th>\n",
       "      <td>124468</td>\n",
       "      <td>99958</td>\n",
       "      <td>Processing</td>\n",
       "      <td>M</td>\n",
       "      <td>2022-05-25 09:32:00+00:00</td>\n",
       "      <td>NaN</td>\n",
       "      <td>NaN</td>\n",
       "      <td>NaN</td>\n",
       "      <td>1</td>\n",
       "    </tr>\n",
       "    <tr>\n",
       "      <th>124509</th>\n",
       "      <td>124491</td>\n",
       "      <td>99980</td>\n",
       "      <td>Processing</td>\n",
       "      <td>M</td>\n",
       "      <td>2021-10-07 00:32:00+00:00</td>\n",
       "      <td>NaN</td>\n",
       "      <td>NaN</td>\n",
       "      <td>NaN</td>\n",
       "      <td>2</td>\n",
       "    </tr>\n",
       "    <tr>\n",
       "      <th>124510</th>\n",
       "      <td>124502</td>\n",
       "      <td>99991</td>\n",
       "      <td>Processing</td>\n",
       "      <td>M</td>\n",
       "      <td>2021-05-31 14:50:00+00:00</td>\n",
       "      <td>NaN</td>\n",
       "      <td>NaN</td>\n",
       "      <td>NaN</td>\n",
       "      <td>1</td>\n",
       "    </tr>\n",
       "    <tr>\n",
       "      <th>124511</th>\n",
       "      <td>124512</td>\n",
       "      <td>100000</td>\n",
       "      <td>Processing</td>\n",
       "      <td>M</td>\n",
       "      <td>2021-06-08 09:25:00+00:00</td>\n",
       "      <td>NaN</td>\n",
       "      <td>NaN</td>\n",
       "      <td>NaN</td>\n",
       "      <td>1</td>\n",
       "    </tr>\n",
       "  </tbody>\n",
       "</table>\n",
       "</div>"
      ],
      "text/plain": [
       "        order_id  user_id      status gender                 created_at  \\\n",
       "124507    124467    99958  Processing      M  2022-05-14 09:32:00+00:00   \n",
       "124508    124468    99958  Processing      M  2022-05-25 09:32:00+00:00   \n",
       "124509    124491    99980  Processing      M  2021-10-07 00:32:00+00:00   \n",
       "124510    124502    99991  Processing      M  2021-05-31 14:50:00+00:00   \n",
       "124511    124512   100000  Processing      M  2021-06-08 09:25:00+00:00   \n",
       "\n",
       "       returned_at shipped_at delivered_at  num_of_item  \n",
       "124507         NaN        NaN          NaN            1  \n",
       "124508         NaN        NaN          NaN            1  \n",
       "124509         NaN        NaN          NaN            2  \n",
       "124510         NaN        NaN          NaN            1  \n",
       "124511         NaN        NaN          NaN            1  "
      ]
     },
     "execution_count": 79,
     "metadata": {},
     "output_type": "execute_result"
    }
   ],
   "source": [
    "\n",
    "data2.tail(\n",
    ") # Fungsi yang menampilkan n baris terakhir dari kumpulan data."
   ]
  },
  {
   "cell_type": "code",
   "execution_count": 80,
   "metadata": {},
   "outputs": [
    {
     "name": "stdout",
     "output_type": "stream",
     "text": [
      "<class 'pandas.core.frame.DataFrame'>\n",
      "RangeIndex: 124512 entries, 0 to 124511\n",
      "Data columns (total 9 columns):\n",
      " #   Column        Non-Null Count   Dtype \n",
      "---  ------        --------------   ----- \n",
      " 0   order_id      124512 non-null  int64 \n",
      " 1   user_id       124512 non-null  int64 \n",
      " 2   status        124512 non-null  object\n",
      " 3   gender        124512 non-null  object\n",
      " 4   created_at    124512 non-null  object\n",
      " 5   returned_at   12149 non-null   object\n",
      " 6   shipped_at    80884 non-null   object\n",
      " 7   delivered_at  43418 non-null   object\n",
      " 8   num_of_item   124512 non-null  int64 \n",
      "dtypes: int64(3), object(6)\n",
      "memory usage: 8.5+ MB\n"
     ]
    }
   ],
   "source": [
    "data2.info() # Melihat informasi data"
   ]
  },
  {
   "cell_type": "code",
   "execution_count": 81,
   "metadata": {},
   "outputs": [
    {
     "name": "stdout",
     "output_type": "stream",
     "text": [
      "order_id                      int64\n",
      "user_id                       int64\n",
      "status                       object\n",
      "gender                       object\n",
      "created_at      datetime64[ns, UTC]\n",
      "returned_at                  object\n",
      "shipped_at                   object\n",
      "delivered_at                 object\n",
      "num_of_item                   int64\n",
      "dtype: object\n"
     ]
    }
   ],
   "source": [
    "# Pada kolom created_at ubah tipe data menjadi datetime\n",
    "data2['created_at']=pd.to_datetime(data2['created_at'], infer_datetime_format=True)\n",
    "\n",
    "# Cek tipe data \n",
    "print (data2.dtypes)"
   ]
  },
  {
   "cell_type": "code",
   "execution_count": 82,
   "metadata": {},
   "outputs": [
    {
     "name": "stdout",
     "output_type": "stream",
     "text": [
      "order_id                      int64\n",
      "user_id                       int64\n",
      "status                       object\n",
      "gender                       object\n",
      "created_at      datetime64[ns, UTC]\n",
      "returned_at                  object\n",
      "shipped_at      datetime64[ns, UTC]\n",
      "delivered_at                 object\n",
      "num_of_item                   int64\n",
      "dtype: object\n"
     ]
    }
   ],
   "source": [
    "6# Pada kolom shipped_at ubah tipe data menjadi datetime\n",
    "data2['shipped_at']=pd.to_datetime(data2['shipped_at'], infer_datetime_format=True)\n",
    "\n",
    "# Cek tipe data \n",
    "print (data2.dtypes)"
   ]
  },
  {
   "cell_type": "code",
   "execution_count": 83,
   "metadata": {},
   "outputs": [
    {
     "name": "stdout",
     "output_type": "stream",
     "text": [
      "order_id                      int64\n",
      "user_id                       int64\n",
      "status                       object\n",
      "gender                       object\n",
      "created_at      datetime64[ns, UTC]\n",
      "returned_at                  object\n",
      "shipped_at      datetime64[ns, UTC]\n",
      "delivered_at    datetime64[ns, UTC]\n",
      "num_of_item                   int64\n",
      "dtype: object\n"
     ]
    }
   ],
   "source": [
    "# Pada kolom 'delivered_at' ubah tipe data menjadi datetime\n",
    "data2['delivered_at']=pd.to_datetime(data2['delivered_at'], infer_datetime_format=True)\n",
    "\n",
    "# Cek tipe data \n",
    "print (data2.dtypes)"
   ]
  },
  {
   "cell_type": "code",
   "execution_count": 84,
   "metadata": {},
   "outputs": [
    {
     "name": "stdout",
     "output_type": "stream",
     "text": [
      "order_id                      int64\n",
      "user_id                       int64\n",
      "status                       object\n",
      "gender                       object\n",
      "created_at      datetime64[ns, UTC]\n",
      "returned_at     datetime64[ns, UTC]\n",
      "shipped_at      datetime64[ns, UTC]\n",
      "delivered_at    datetime64[ns, UTC]\n",
      "num_of_item                   int64\n",
      "dtype: object\n"
     ]
    }
   ],
   "source": [
    "# Pada kolom sold_at ubah tipe data menjadi datetime\n",
    "data2['returned_at']=pd.to_datetime(data2['returned_at'], infer_datetime_format=True)\n",
    "\n",
    "# Cek tipe data \n",
    "print (data2.dtypes)"
   ]
  },
  {
   "cell_type": "code",
   "execution_count": 85,
   "metadata": {},
   "outputs": [
    {
     "name": "stdout",
     "output_type": "stream",
     "text": [
      "<class 'pandas.core.frame.DataFrame'>\n",
      "RangeIndex: 124512 entries, 0 to 124511\n",
      "Data columns (total 9 columns):\n",
      " #   Column        Non-Null Count   Dtype              \n",
      "---  ------        --------------   -----              \n",
      " 0   order_id      124512 non-null  int64              \n",
      " 1   user_id       124512 non-null  int64              \n",
      " 2   status        124512 non-null  object             \n",
      " 3   gender        124512 non-null  object             \n",
      " 4   created_at    124512 non-null  datetime64[ns, UTC]\n",
      " 5   returned_at   12149 non-null   datetime64[ns, UTC]\n",
      " 6   shipped_at    80884 non-null   datetime64[ns, UTC]\n",
      " 7   delivered_at  43418 non-null   datetime64[ns, UTC]\n",
      " 8   num_of_item   124512 non-null  int64              \n",
      "dtypes: datetime64[ns, UTC](4), int64(3), object(2)\n",
      "memory usage: 8.5+ MB\n"
     ]
    }
   ],
   "source": [
    "data2.info()"
   ]
  },
  {
   "cell_type": "markdown",
   "metadata": {},
   "source": [
    "SEMUA TIPE DATA YANG BERAKHIRAN AT TELAH DIGANTI MENJADI DATETIME"
   ]
  },
  {
   "cell_type": "markdown",
   "metadata": {},
   "source": [
    "## **2 Exploratory Data Analysis**\n",
    "Langkah-langkah yang akan kita lakukan untuk EDA adalah sebagai berikut:"
   ]
  },
  {
   "cell_type": "code",
   "execution_count": 86,
   "metadata": {},
   "outputs": [
    {
     "data": {
      "text/plain": [
       "(124512, 9)"
      ]
     },
     "execution_count": 86,
     "metadata": {},
     "output_type": "execute_result"
    }
   ],
   "source": [
    "#MELIHAT PANJANG KOLOM DAN BARIS\n",
    "data2.shape"
   ]
  },
  {
   "cell_type": "code",
   "execution_count": 87,
   "metadata": {},
   "outputs": [],
   "source": [
    "#FUNGSI UNTUK MENAMPILKNA VISUALISASI\n",
    "def plot_count(data, x=None, y=None, palette=None, figsize=(12, 6), **kwargs):\n",
    "    column_order = data2[x or y].value_counts().index\n",
    "\n",
    "    plt.figure(figsize=figsize)\n",
    "    sns.countplot(\n",
    "        x=x, y=y, data=data2, order=column_order,\n",
    "        palette=palette, **kwargs\n",
    "    )\n",
    "    plt.grid(False)\n",
    "\n",
    "\n",
    "MAIN_COLOR = [\"#29B5BF\"]    # warna utama untuk visualisasi\n",
    "OTHER_COLOR = [\"#777777\"]    # warna lainnya untuk visualisasi"
   ]
  },
  {
   "cell_type": "code",
   "execution_count": 88,
   "metadata": {},
   "outputs": [
    {
     "data": {
      "image/png": "[encoded data removed]",
      "text/plain": [
       "<Figure size 864x432 with 1 Axes>"
      ]
     },
     "metadata": {
      "needs_background": "light"
     },
     "output_type": "display_data"
    }
   ],
   "source": [
    "#HISTOGRAM STATUS PRODUCT\n",
    "plot_count(x=\"status\", data=data2)"
   ]
  },
  {
   "cell_type": "markdown",
   "metadata": {},
   "source": [
    "Insights:\n",
    "\n",
    "Dari visualisasi di atas, dilihat bahwa: status product yang  diorder paling banyak terletak pada status shiped atau pengeriman, dan yang paling sedikit yaitu status returned atau pengembalian."
   ]
  },
  {
   "cell_type": "code",
   "execution_count": 89,
   "metadata": {},
   "outputs": [
    {
     "data": {
      "image/png": "[encoded data removed]",
      "text/plain": [
       "<Figure size 720x720 with 2 Axes>"
      ]
     },
     "metadata": {
      "needs_background": "light"
     },
     "output_type": "display_data"
    }
   ],
   "source": [
    "from sklearn.metrics import classification_report,confusion_matrix\n",
    "fig, ax = plt.subplots(figsize=(10,10))\n",
    "sns.heatmap(data2.corr(), annot=True)\n",
    "plt.show()"
   ]
  },
  {
   "cell_type": "markdown",
   "metadata": {},
   "source": [
    "Insights:\n",
    "\n"
   ]
  },
  {
   "cell_type": "code",
   "execution_count": 90,
   "metadata": {},
   "outputs": [
    {
     "data": {
      "text/plain": [
       "Index(['order_id', 'user_id', 'status', 'gender', 'created_at', 'returned_at',\n",
       "       'shipped_at', 'delivered_at', 'num_of_item'],\n",
       "      dtype='object')"
      ]
     },
     "execution_count": 90,
     "metadata": {},
     "output_type": "execute_result"
    }
   ],
   "source": [
    "#MELIHAT KOLOM DATA\n",
    "data2.columns"
   ]
  },
  {
   "cell_type": "markdown",
   "metadata": {},
   "source": [
    "## **2 Data Preprocessing**\n",
    "Tujuannya disini adalah untuk menghilangkan kata dan karakter yang tidak perlu agar kata-kata yang tidak bermakna untuk menambah tabel dengan PosgreSQL dan memvisualisasikan/ membuat dashboard dengan Tableau nantinya."
   ]
  },
  {
   "cell_type": "code",
   "execution_count": 91,
   "metadata": {},
   "outputs": [
    {
     "data": {
      "text/html": [
       "<div>\n",
       "<style scoped>\n",
       "    .dataframe tbody tr th:only-of-type {\n",
       "        vertical-align: middle;\n",
       "    }\n",
       "\n",
       "    .dataframe tbody tr th {\n",
       "        vertical-align: top;\n",
       "    }\n",
       "\n",
       "    .dataframe thead th {\n",
       "        text-align: right;\n",
       "    }\n",
       "</style>\n",
       "<table border=\"1\" class=\"dataframe\">\n",
       "  <thead>\n",
       "    <tr style=\"text-align: right;\">\n",
       "      <th></th>\n",
       "      <th>order_id</th>\n",
       "      <th>user_id</th>\n",
       "      <th>status</th>\n",
       "      <th>gender</th>\n",
       "      <th>returned_at</th>\n",
       "      <th>shipped_at</th>\n",
       "      <th>delivered_at</th>\n",
       "      <th>num_of_item</th>\n",
       "    </tr>\n",
       "  </thead>\n",
       "  <tbody>\n",
       "    <tr>\n",
       "      <th>0</th>\n",
       "      <td>11</td>\n",
       "      <td>9</td>\n",
       "      <td>Shipped</td>\n",
       "      <td>F</td>\n",
       "      <td>NaT</td>\n",
       "      <td>2021-12-12 10:01:00+00:00</td>\n",
       "      <td>NaT</td>\n",
       "      <td>3</td>\n",
       "    </tr>\n",
       "    <tr>\n",
       "      <th>1</th>\n",
       "      <td>12</td>\n",
       "      <td>9</td>\n",
       "      <td>Shipped</td>\n",
       "      <td>F</td>\n",
       "      <td>NaT</td>\n",
       "      <td>2022-01-19 20:20:00+00:00</td>\n",
       "      <td>NaT</td>\n",
       "      <td>1</td>\n",
       "    </tr>\n",
       "    <tr>\n",
       "      <th>2</th>\n",
       "      <td>22</td>\n",
       "      <td>14</td>\n",
       "      <td>Shipped</td>\n",
       "      <td>F</td>\n",
       "      <td>NaT</td>\n",
       "      <td>2020-08-20 16:45:00+00:00</td>\n",
       "      <td>NaT</td>\n",
       "      <td>1</td>\n",
       "    </tr>\n",
       "    <tr>\n",
       "      <th>3</th>\n",
       "      <td>25</td>\n",
       "      <td>16</td>\n",
       "      <td>Shipped</td>\n",
       "      <td>F</td>\n",
       "      <td>NaT</td>\n",
       "      <td>2020-12-17 21:43:00+00:00</td>\n",
       "      <td>NaT</td>\n",
       "      <td>2</td>\n",
       "    </tr>\n",
       "    <tr>\n",
       "      <th>4</th>\n",
       "      <td>26</td>\n",
       "      <td>16</td>\n",
       "      <td>Shipped</td>\n",
       "      <td>F</td>\n",
       "      <td>NaT</td>\n",
       "      <td>2020-09-10 00:15:00+00:00</td>\n",
       "      <td>NaT</td>\n",
       "      <td>1</td>\n",
       "    </tr>\n",
       "  </tbody>\n",
       "</table>\n",
       "</div>"
      ],
      "text/plain": [
       "   order_id  user_id   status gender returned_at                shipped_at  \\\n",
       "0        11        9  Shipped      F         NaT 2021-12-12 10:01:00+00:00   \n",
       "1        12        9  Shipped      F         NaT 2022-01-19 20:20:00+00:00   \n",
       "2        22       14  Shipped      F         NaT 2020-08-20 16:45:00+00:00   \n",
       "3        25       16  Shipped      F         NaT 2020-12-17 21:43:00+00:00   \n",
       "4        26       16  Shipped      F         NaT 2020-09-10 00:15:00+00:00   \n",
       "\n",
       "  delivered_at  num_of_item  \n",
       "0          NaT            3  \n",
       "1          NaT            1  \n",
       "2          NaT            1  \n",
       "3          NaT            2  \n",
       "4          NaT            1  "
      ]
     },
     "execution_count": 91,
     "metadata": {},
     "output_type": "execute_result"
    }
   ],
   "source": [
    "#MEMBUANG KOLOM CREATED AT KARENA SUDAH ADA DALAM DATA PRIMARY\n",
    "data2.drop(['created_at'],axis=1,inplace=True)\n",
    "data2.head() #MASIH TERDAPAT BANYAK MISSING VALUE"
   ]
  },
  {
   "cell_type": "code",
   "execution_count": 92,
   "metadata": {
    "scrolled": true
   },
   "outputs": [
    {
     "data": {
      "text/plain": [
       "order_id             0\n",
       "user_id              0\n",
       "status               0\n",
       "gender               0\n",
       "returned_at     112363\n",
       "shipped_at       43628\n",
       "delivered_at     81094\n",
       "num_of_item          0\n",
       "dtype: int64"
      ]
     },
     "execution_count": 92,
     "metadata": {},
     "output_type": "execute_result"
    }
   ],
   "source": [
    "#MELIHAT MISSING VALUE\n",
    "data2.isna().sum() #Terdapat banyak sekali missing value dalam data ini terutama untuk date hal tersebut dikarenakan status pengiriman belum masih dalam proses"
   ]
  },
  {
   "cell_type": "markdown",
   "metadata": {},
   "source": [
    "Setelah data item order dicek, ternyata Terdapat banyak sekali missing value / NaT dalam data ini terutama untuk date status, hal tersebut dikarenakan status product masih dalam proses. maka dari itu tidak saya cleansing.\n"
   ]
  },
  {
   "cell_type": "code",
   "execution_count": 93,
   "metadata": {},
   "outputs": [
    {
     "data": {
      "text/html": [
       "<div>\n",
       "<style scoped>\n",
       "    .dataframe tbody tr th:only-of-type {\n",
       "        vertical-align: middle;\n",
       "    }\n",
       "\n",
       "    .dataframe tbody tr th {\n",
       "        vertical-align: top;\n",
       "    }\n",
       "\n",
       "    .dataframe thead th {\n",
       "        text-align: right;\n",
       "    }\n",
       "</style>\n",
       "<table border=\"1\" class=\"dataframe\">\n",
       "  <thead>\n",
       "    <tr style=\"text-align: right;\">\n",
       "      <th></th>\n",
       "      <th>order_id</th>\n",
       "      <th>user_id</th>\n",
       "      <th>status</th>\n",
       "      <th>gender</th>\n",
       "      <th>num_of_item</th>\n",
       "    </tr>\n",
       "  </thead>\n",
       "  <tbody>\n",
       "    <tr>\n",
       "      <th>0</th>\n",
       "      <td>11</td>\n",
       "      <td>9</td>\n",
       "      <td>Shipped</td>\n",
       "      <td>F</td>\n",
       "      <td>3</td>\n",
       "    </tr>\n",
       "    <tr>\n",
       "      <th>1</th>\n",
       "      <td>12</td>\n",
       "      <td>9</td>\n",
       "      <td>Shipped</td>\n",
       "      <td>F</td>\n",
       "      <td>1</td>\n",
       "    </tr>\n",
       "    <tr>\n",
       "      <th>2</th>\n",
       "      <td>22</td>\n",
       "      <td>14</td>\n",
       "      <td>Shipped</td>\n",
       "      <td>F</td>\n",
       "      <td>1</td>\n",
       "    </tr>\n",
       "    <tr>\n",
       "      <th>3</th>\n",
       "      <td>25</td>\n",
       "      <td>16</td>\n",
       "      <td>Shipped</td>\n",
       "      <td>F</td>\n",
       "      <td>2</td>\n",
       "    </tr>\n",
       "    <tr>\n",
       "      <th>4</th>\n",
       "      <td>26</td>\n",
       "      <td>16</td>\n",
       "      <td>Shipped</td>\n",
       "      <td>F</td>\n",
       "      <td>1</td>\n",
       "    </tr>\n",
       "    <tr>\n",
       "      <th>...</th>\n",
       "      <td>...</td>\n",
       "      <td>...</td>\n",
       "      <td>...</td>\n",
       "      <td>...</td>\n",
       "      <td>...</td>\n",
       "    </tr>\n",
       "    <tr>\n",
       "      <th>124507</th>\n",
       "      <td>124467</td>\n",
       "      <td>99958</td>\n",
       "      <td>Processing</td>\n",
       "      <td>M</td>\n",
       "      <td>1</td>\n",
       "    </tr>\n",
       "    <tr>\n",
       "      <th>124508</th>\n",
       "      <td>124468</td>\n",
       "      <td>99958</td>\n",
       "      <td>Processing</td>\n",
       "      <td>M</td>\n",
       "      <td>1</td>\n",
       "    </tr>\n",
       "    <tr>\n",
       "      <th>124509</th>\n",
       "      <td>124491</td>\n",
       "      <td>99980</td>\n",
       "      <td>Processing</td>\n",
       "      <td>M</td>\n",
       "      <td>2</td>\n",
       "    </tr>\n",
       "    <tr>\n",
       "      <th>124510</th>\n",
       "      <td>124502</td>\n",
       "      <td>99991</td>\n",
       "      <td>Processing</td>\n",
       "      <td>M</td>\n",
       "      <td>1</td>\n",
       "    </tr>\n",
       "    <tr>\n",
       "      <th>124511</th>\n",
       "      <td>124512</td>\n",
       "      <td>100000</td>\n",
       "      <td>Processing</td>\n",
       "      <td>M</td>\n",
       "      <td>1</td>\n",
       "    </tr>\n",
       "  </tbody>\n",
       "</table>\n",
       "<p>124512 rows × 5 columns</p>\n",
       "</div>"
      ],
      "text/plain": [
       "        order_id  user_id      status gender  num_of_item\n",
       "0             11        9     Shipped      F            3\n",
       "1             12        9     Shipped      F            1\n",
       "2             22       14     Shipped      F            1\n",
       "3             25       16     Shipped      F            2\n",
       "4             26       16     Shipped      F            1\n",
       "...          ...      ...         ...    ...          ...\n",
       "124507    124467    99958  Processing      M            1\n",
       "124508    124468    99958  Processing      M            1\n",
       "124509    124491    99980  Processing      M            2\n",
       "124510    124502    99991  Processing      M            1\n",
       "124511    124512   100000  Processing      M            1\n",
       "\n",
       "[124512 rows x 5 columns]"
      ]
     },
     "execution_count": 93,
     "metadata": {},
     "output_type": "execute_result"
    }
   ],
   "source": [
    "\n",
    "data2.dropna(axis=1)"
   ]
  },
  {
   "cell_type": "code",
   "execution_count": 94,
   "metadata": {},
   "outputs": [
    {
     "data": {
      "text/plain": [
       "order_id             0\n",
       "user_id              0\n",
       "status               0\n",
       "gender               0\n",
       "returned_at     112363\n",
       "shipped_at       43628\n",
       "delivered_at     81094\n",
       "num_of_item          0\n",
       "dtype: int64"
      ]
     },
     "execution_count": 94,
     "metadata": {},
     "output_type": "execute_result"
    }
   ],
   "source": [
    "data2.isna().sum()"
   ]
  },
  {
   "cell_type": "code",
   "execution_count": 95,
   "metadata": {},
   "outputs": [
    {
     "data": {
      "text/html": [
       "<div>\n",
       "<style scoped>\n",
       "    .dataframe tbody tr th:only-of-type {\n",
       "        vertical-align: middle;\n",
       "    }\n",
       "\n",
       "    .dataframe tbody tr th {\n",
       "        vertical-align: top;\n",
       "    }\n",
       "\n",
       "    .dataframe thead th {\n",
       "        text-align: right;\n",
       "    }\n",
       "</style>\n",
       "<table border=\"1\" class=\"dataframe\">\n",
       "  <thead>\n",
       "    <tr style=\"text-align: right;\">\n",
       "      <th></th>\n",
       "      <th>order_id</th>\n",
       "      <th>user_id</th>\n",
       "      <th>status</th>\n",
       "      <th>gender</th>\n",
       "      <th>returned_at</th>\n",
       "      <th>shipped_at</th>\n",
       "      <th>delivered_at</th>\n",
       "      <th>num_of_item</th>\n",
       "    </tr>\n",
       "  </thead>\n",
       "  <tbody>\n",
       "    <tr>\n",
       "      <th>0</th>\n",
       "      <td>11</td>\n",
       "      <td>9</td>\n",
       "      <td>Shipped</td>\n",
       "      <td>F</td>\n",
       "      <td>NaT</td>\n",
       "      <td>2021-12-12 10:01:00+00:00</td>\n",
       "      <td>NaT</td>\n",
       "      <td>3</td>\n",
       "    </tr>\n",
       "    <tr>\n",
       "      <th>1</th>\n",
       "      <td>12</td>\n",
       "      <td>9</td>\n",
       "      <td>Shipped</td>\n",
       "      <td>F</td>\n",
       "      <td>NaT</td>\n",
       "      <td>2022-01-19 20:20:00+00:00</td>\n",
       "      <td>NaT</td>\n",
       "      <td>1</td>\n",
       "    </tr>\n",
       "    <tr>\n",
       "      <th>2</th>\n",
       "      <td>22</td>\n",
       "      <td>14</td>\n",
       "      <td>Shipped</td>\n",
       "      <td>F</td>\n",
       "      <td>NaT</td>\n",
       "      <td>2020-08-20 16:45:00+00:00</td>\n",
       "      <td>NaT</td>\n",
       "      <td>1</td>\n",
       "    </tr>\n",
       "    <tr>\n",
       "      <th>3</th>\n",
       "      <td>25</td>\n",
       "      <td>16</td>\n",
       "      <td>Shipped</td>\n",
       "      <td>F</td>\n",
       "      <td>NaT</td>\n",
       "      <td>2020-12-17 21:43:00+00:00</td>\n",
       "      <td>NaT</td>\n",
       "      <td>2</td>\n",
       "    </tr>\n",
       "    <tr>\n",
       "      <th>4</th>\n",
       "      <td>26</td>\n",
       "      <td>16</td>\n",
       "      <td>Shipped</td>\n",
       "      <td>F</td>\n",
       "      <td>NaT</td>\n",
       "      <td>2020-09-10 00:15:00+00:00</td>\n",
       "      <td>NaT</td>\n",
       "      <td>1</td>\n",
       "    </tr>\n",
       "  </tbody>\n",
       "</table>\n",
       "</div>"
      ],
      "text/plain": [
       "   order_id  user_id   status gender returned_at                shipped_at  \\\n",
       "0        11        9  Shipped      F         NaT 2021-12-12 10:01:00+00:00   \n",
       "1        12        9  Shipped      F         NaT 2022-01-19 20:20:00+00:00   \n",
       "2        22       14  Shipped      F         NaT 2020-08-20 16:45:00+00:00   \n",
       "3        25       16  Shipped      F         NaT 2020-12-17 21:43:00+00:00   \n",
       "4        26       16  Shipped      F         NaT 2020-09-10 00:15:00+00:00   \n",
       "\n",
       "  delivered_at  num_of_item  \n",
       "0          NaT            3  \n",
       "1          NaT            1  \n",
       "2          NaT            1  \n",
       "3          NaT            2  \n",
       "4          NaT            1  "
      ]
     },
     "execution_count": 95,
     "metadata": {},
     "output_type": "execute_result"
    }
   ],
   "source": [
    "#MELIHAT DATA TERATAS\n",
    "data2.head() "
   ]
  },
  {
   "cell_type": "code",
   "execution_count": 96,
   "metadata": {},
   "outputs": [],
   "source": [
    "#EXPORT DATSET YANG TELAH DIBERSIHKAN\n",
    "data2.to_csv('order_clean.csv')"
   ]
  },
  {
   "cell_type": "markdown",
   "metadata": {},
   "source": [
    "## **Data Secondary (Distribution_Centers)**"
   ]
  },
  {
   "cell_type": "code",
   "execution_count": 97,
   "metadata": {},
   "outputs": [
    {
     "data": {
      "text/html": [
       "<div>\n",
       "<style scoped>\n",
       "    .dataframe tbody tr th:only-of-type {\n",
       "        vertical-align: middle;\n",
       "    }\n",
       "\n",
       "    .dataframe tbody tr th {\n",
       "        vertical-align: top;\n",
       "    }\n",
       "\n",
       "    .dataframe thead th {\n",
       "        text-align: right;\n",
       "    }\n",
       "</style>\n",
       "<table border=\"1\" class=\"dataframe\">\n",
       "  <thead>\n",
       "    <tr style=\"text-align: right;\">\n",
       "      <th></th>\n",
       "      <th>id</th>\n",
       "      <th>name</th>\n",
       "      <th>latitude</th>\n",
       "      <th>longitude</th>\n",
       "    </tr>\n",
       "  </thead>\n",
       "  <tbody>\n",
       "    <tr>\n",
       "      <th>0</th>\n",
       "      <td>1</td>\n",
       "      <td>Memphis TN</td>\n",
       "      <td>35.1174</td>\n",
       "      <td>-89.9711</td>\n",
       "    </tr>\n",
       "    <tr>\n",
       "      <th>1</th>\n",
       "      <td>2</td>\n",
       "      <td>Chicago IL</td>\n",
       "      <td>41.8369</td>\n",
       "      <td>-87.6847</td>\n",
       "    </tr>\n",
       "    <tr>\n",
       "      <th>2</th>\n",
       "      <td>3</td>\n",
       "      <td>Houston TX</td>\n",
       "      <td>29.7604</td>\n",
       "      <td>-95.3698</td>\n",
       "    </tr>\n",
       "    <tr>\n",
       "      <th>3</th>\n",
       "      <td>4</td>\n",
       "      <td>Los Angeles CA</td>\n",
       "      <td>34.0500</td>\n",
       "      <td>-118.2500</td>\n",
       "    </tr>\n",
       "    <tr>\n",
       "      <th>4</th>\n",
       "      <td>5</td>\n",
       "      <td>New Orleans LA</td>\n",
       "      <td>29.9500</td>\n",
       "      <td>-90.0667</td>\n",
       "    </tr>\n",
       "  </tbody>\n",
       "</table>\n",
       "</div>"
      ],
      "text/plain": [
       "   id            name  latitude  longitude\n",
       "0   1      Memphis TN   35.1174   -89.9711\n",
       "1   2      Chicago IL   41.8369   -87.6847\n",
       "2   3      Houston TX   29.7604   -95.3698\n",
       "3   4  Los Angeles CA   34.0500  -118.2500\n",
       "4   5  New Orleans LA   29.9500   -90.0667"
      ]
     },
     "execution_count": 97,
     "metadata": {},
     "output_type": "execute_result"
    }
   ],
   "source": [
    "#MENGIMPORT DATA\n",
    "data3 = pd.read_csv('distribution_centers.csv')\n",
    "data3.head() # Mengimpor File dan memunculkan data head."
   ]
  },
  {
   "cell_type": "code",
   "execution_count": 98,
   "metadata": {},
   "outputs": [
    {
     "name": "stdout",
     "output_type": "stream",
     "text": [
      "<class 'pandas.core.frame.DataFrame'>\n",
      "RangeIndex: 10 entries, 0 to 9\n",
      "Data columns (total 4 columns):\n",
      " #   Column     Non-Null Count  Dtype  \n",
      "---  ------     --------------  -----  \n",
      " 0   id         10 non-null     int64  \n",
      " 1   name       10 non-null     object \n",
      " 2   latitude   10 non-null     float64\n",
      " 3   longitude  10 non-null     float64\n",
      "dtypes: float64(2), int64(1), object(1)\n",
      "memory usage: 448.0+ bytes\n"
     ]
    }
   ],
   "source": [
    "#MELIHAT INFO DATA\n",
    "data3.info() # Melihat informasi data"
   ]
  },
  {
   "cell_type": "code",
   "execution_count": 99,
   "metadata": {},
   "outputs": [
    {
     "name": "stdout",
     "output_type": "stream",
     "text": [
      "id             int64\n",
      "name          object\n",
      "latitude      object\n",
      "longitude    float64\n",
      "dtype: object\n"
     ]
    }
   ],
   "source": [
    "# Instruksi looping untuk mengubah tipe data pada kolom menggunakan function astype()\n",
    "for feature in data3.columns:\n",
    "    if (\n",
    "        feature.endswith(\"latitude\")\n",
    "    ):\n",
    "        \n",
    "        \n",
    "        data3[feature] = data3[feature].astype(\"object\")\n",
    "print (data3.dtypes)"
   ]
  },
  {
   "cell_type": "code",
   "execution_count": 100,
   "metadata": {},
   "outputs": [
    {
     "name": "stdout",
     "output_type": "stream",
     "text": [
      "id            int64\n",
      "name         object\n",
      "latitude     object\n",
      "longitude    object\n",
      "dtype: object\n"
     ]
    }
   ],
   "source": [
    "# Instruksi looping untuk mengubah tipe data pada kolom dengan menggunakan function astype()\n",
    "for feature in data3.columns:\n",
    "    if (\n",
    "        feature.endswith(\"longitude\")\n",
    "    ):\n",
    "        \n",
    "        \n",
    "        data3[feature] = data3[feature].astype(\"object\")\n",
    "print (data3.dtypes)"
   ]
  },
  {
   "cell_type": "markdown",
   "metadata": {},
   "source": [
    "## **2 Exploratory Data Analysis**\n",
    "Langkah-langkah yang akan kita lakukan untuk EDA adalah sebagai berikut:"
   ]
  },
  {
   "cell_type": "code",
   "execution_count": 101,
   "metadata": {},
   "outputs": [
    {
     "data": {
      "text/plain": [
       "(10, 4)"
      ]
     },
     "execution_count": 101,
     "metadata": {},
     "output_type": "execute_result"
    }
   ],
   "source": [
    "#MELIHAT PANJANG DATA\n",
    "data3.shape"
   ]
  },
  {
   "cell_type": "code",
   "execution_count": 102,
   "metadata": {},
   "outputs": [
    {
     "data": {
      "text/plain": [
       "Index(['id', 'name', 'latitude', 'longitude'], dtype='object')"
      ]
     },
     "execution_count": 102,
     "metadata": {},
     "output_type": "execute_result"
    }
   ],
   "source": [
    "#MELIHAT KOLOM DATA\n",
    "data3.columns"
   ]
  },
  {
   "cell_type": "markdown",
   "metadata": {},
   "source": [
    "## **2 Data Preprocessing**\n",
    "Tujuannya disini adalah untuk menghilangkan kata dan karakter yang tidak perlu agar kata-kata yang tidak bermakna untuk menambah tabel dengan PosgreSQL dan memvisualisasikan/ membuat dashboard dengan Tableau nantinya."
   ]
  },
  {
   "cell_type": "code",
   "execution_count": 103,
   "metadata": {},
   "outputs": [
    {
     "data": {
      "text/plain": [
       "id           0\n",
       "name         0\n",
       "latitude     0\n",
       "longitude    0\n",
       "dtype: int64"
      ]
     },
     "execution_count": 103,
     "metadata": {},
     "output_type": "execute_result"
    }
   ],
   "source": [
    "data3.isna().sum() #Tidak ada missing value maka dari itu tidak perlu di cleansing"
   ]
  },
  {
   "cell_type": "code",
   "execution_count": 104,
   "metadata": {},
   "outputs": [
    {
     "data": {
      "text/html": [
       "<div>\n",
       "<style scoped>\n",
       "    .dataframe tbody tr th:only-of-type {\n",
       "        vertical-align: middle;\n",
       "    }\n",
       "\n",
       "    .dataframe tbody tr th {\n",
       "        vertical-align: top;\n",
       "    }\n",
       "\n",
       "    .dataframe thead th {\n",
       "        text-align: right;\n",
       "    }\n",
       "</style>\n",
       "<table border=\"1\" class=\"dataframe\">\n",
       "  <thead>\n",
       "    <tr style=\"text-align: right;\">\n",
       "      <th></th>\n",
       "      <th>id</th>\n",
       "      <th>name</th>\n",
       "      <th>latitude</th>\n",
       "      <th>longitude</th>\n",
       "    </tr>\n",
       "  </thead>\n",
       "  <tbody>\n",
       "    <tr>\n",
       "      <th>0</th>\n",
       "      <td>1</td>\n",
       "      <td>Memphis TN</td>\n",
       "      <td>35.1174</td>\n",
       "      <td>-89.9711</td>\n",
       "    </tr>\n",
       "    <tr>\n",
       "      <th>1</th>\n",
       "      <td>2</td>\n",
       "      <td>Chicago IL</td>\n",
       "      <td>41.8369</td>\n",
       "      <td>-87.6847</td>\n",
       "    </tr>\n",
       "    <tr>\n",
       "      <th>2</th>\n",
       "      <td>3</td>\n",
       "      <td>Houston TX</td>\n",
       "      <td>29.7604</td>\n",
       "      <td>-95.3698</td>\n",
       "    </tr>\n",
       "    <tr>\n",
       "      <th>3</th>\n",
       "      <td>4</td>\n",
       "      <td>Los Angeles CA</td>\n",
       "      <td>34.05</td>\n",
       "      <td>-118.25</td>\n",
       "    </tr>\n",
       "    <tr>\n",
       "      <th>4</th>\n",
       "      <td>5</td>\n",
       "      <td>New Orleans LA</td>\n",
       "      <td>29.95</td>\n",
       "      <td>-90.0667</td>\n",
       "    </tr>\n",
       "  </tbody>\n",
       "</table>\n",
       "</div>"
      ],
      "text/plain": [
       "   id            name latitude longitude\n",
       "0   1      Memphis TN  35.1174  -89.9711\n",
       "1   2      Chicago IL  41.8369  -87.6847\n",
       "2   3      Houston TX  29.7604  -95.3698\n",
       "3   4  Los Angeles CA    34.05   -118.25\n",
       "4   5  New Orleans LA    29.95  -90.0667"
      ]
     },
     "execution_count": 104,
     "metadata": {},
     "output_type": "execute_result"
    }
   ],
   "source": [
    "data3.head() #MELIHAT DATA HEAD"
   ]
  },
  {
   "cell_type": "code",
   "execution_count": 105,
   "metadata": {},
   "outputs": [],
   "source": [
    "data3.to_csv('distribution_centers_clean.csv')"
   ]
  },
  {
   "cell_type": "markdown",
   "metadata": {},
   "source": [
    "### Selanjutnya menggunakan tools PostgreSQL untuk memanipulasi data dan terakhir memvisualisasikan dengan tools Tableau dan membuat dashboard"
   ]
  },
  {
   "cell_type": "code",
   "execution_count": null,
   "metadata": {},
   "outputs": [],
   "source": []
  }
 ],
 "metadata": {
  "colab": {
   "collapsed_sections": [],
   "name": "Departement Product - Kel 257 - Nadira .ipynb",
   "provenance": []
  },
  "kernelspec": {
   "display_name": "Python 3 (ipykernel)",
   "language": "python",
   "name": "python3"
  },
  "language_info": {
   "codemirror_mode": {
    "name": "ipython",
    "version": 3
   },
   "file_extension": ".py",
   "mimetype": "text/x-python",
   "name": "python",
   "nbconvert_exporter": "python",
   "pygments_lexer": "ipython3",
   "version": "3.9.7"
  }
 },
 "nbformat": 4,
 "nbformat_minor": 1
}
